{
 "cells": [
  {
   "attachments": {},
   "cell_type": "markdown",
   "metadata": {},
   "source": [
    "# mutable and immutable variables\n",
    "https://medium.com/@meghamohan/mutable-and-immutable-side-of-python-c2145cf72747"
   ]
  },
  {
   "cell_type": "code",
   "execution_count": 1,
   "metadata": {},
   "outputs": [
    {
     "name": "stdout",
     "output_type": "stream",
     "text": [
      "pries\n",
      "2683059831024\n",
      "2683059831024\n",
      "po\n",
      "2683059831024\n",
      "2683059831184\n",
      "1\n",
      "6\n"
     ]
    }
   ],
   "source": [
    "# immutable variable:\n",
    "a = 1\n",
    "b = a\n",
    "print ('pries')\n",
    "print( id(a) )\n",
    "print( id(b) )\n",
    "b += 5\n",
    "print ('po')\n",
    "print( id(a) )\n",
    "print( id(b) )\n",
    "print (a)\n",
    "print (b)"
   ]
  },
  {
   "cell_type": "code",
   "execution_count": 2,
   "metadata": {},
   "outputs": [
    {
     "name": "stdout",
     "output_type": "stream",
     "text": [
      "pries\n",
      "2683144733696\n",
      "2683144733696\n",
      "po\n",
      "2683144733696\n",
      "2683144733696\n",
      "[1, 2, 3, 10]\n",
      "[1, 2, 3, 10]\n"
     ]
    }
   ],
   "source": [
    "# mutable variable:\n",
    "a = [1,2,3]\n",
    "b = a\n",
    "print ('pries')\n",
    "print( id(a) )\n",
    "print( id(b) )\n",
    "b.append(10)\n",
    "print ('po')\n",
    "print( id(a) )\n",
    "print( id(b) )\n",
    "print (a)\n",
    "print (b)"
   ]
  },
  {
   "cell_type": "code",
   "execution_count": 3,
   "metadata": {},
   "outputs": [
    {
     "name": "stdout",
     "output_type": "stream",
     "text": [
      "pries\n",
      "2683144741696\n",
      "2683144398592\n",
      "po\n",
      "2683144741696\n",
      "2683144398592\n",
      "[1, 2, 3]\n",
      "[1, 2, 3, 10]\n"
     ]
    }
   ],
   "source": [
    "# fixing mutable variable #1\n",
    "a = [1,2,3]\n",
    "b = a.copy()\n",
    "print ('pries')\n",
    "print( id(a) )\n",
    "print( id(b) )\n",
    "b.append(10)\n",
    "print ('po')\n",
    "print( id(a) )\n",
    "print( id(b) )\n",
    "print (a)\n",
    "print (b)"
   ]
  },
  {
   "cell_type": "code",
   "execution_count": 4,
   "metadata": {},
   "outputs": [
    {
     "name": "stdout",
     "output_type": "stream",
     "text": [
      "pries\n",
      "2683144435392\n",
      "2683133292864\n",
      "po\n",
      "2683144435392\n",
      "2683133292864\n",
      "[1, 2, ['a', 'b', 'c']]\n",
      "[1, 2, ['a', 'b', 'c']]\n"
     ]
    }
   ],
   "source": [
    "# where fix #1 doesn't work\n",
    "a = [1,2, [ 'a', 'b' ] ]\n",
    "b = a.copy()\n",
    "print ('pries')\n",
    "print( id(a) )\n",
    "print( id(b) )\n",
    "b[-1].append( 'c' )\n",
    "print ('po')\n",
    "print( id(a) )\n",
    "print( id(b) )\n",
    "print (a)\n",
    "print (b)"
   ]
  },
  {
   "cell_type": "code",
   "execution_count": 5,
   "metadata": {},
   "outputs": [
    {
     "name": "stdout",
     "output_type": "stream",
     "text": [
      "pries\n",
      "2683144741952\n",
      "2683144477056\n",
      "po\n",
      "2683144741952\n",
      "2683144477056\n",
      "[1, 2, ['a', 'b']]\n",
      "[1, 2, ['a', 'b', 'c']]\n"
     ]
    }
   ],
   "source": [
    "# fixing mutable variable #2\n",
    "import copy\n",
    "a = [1,2, [ 'a', 'b' ] ]\n",
    "b = copy.deepcopy(a)\n",
    "print ('pries')\n",
    "print( id(a) )\n",
    "print( id(b) )\n",
    "b[-1].append( 'c' )\n",
    "print ('po')\n",
    "print( id(a) )\n",
    "print( id(b) )\n",
    "print (a)\n",
    "print (b)"
   ]
  },
  {
   "attachments": {},
   "cell_type": "markdown",
   "metadata": {},
   "source": [
    "# Tuple "
   ]
  },
  {
   "cell_type": "code",
   "execution_count": 6,
   "metadata": {},
   "outputs": [],
   "source": [
    "my_tuple = ( 1,5,'b' )"
   ]
  },
  {
   "cell_type": "code",
   "execution_count": 8,
   "metadata": {},
   "outputs": [
    {
     "name": "stdout",
     "output_type": "stream",
     "text": [
      "<class 'tuple'>\n",
      "<class 'tuple'>\n"
     ]
    }
   ],
   "source": [
    "print( type(my_tuple) )\n",
    "print( type( () ) )"
   ]
  },
  {
   "cell_type": "code",
   "execution_count": 9,
   "metadata": {},
   "outputs": [
    {
     "ename": "TypeError",
     "evalue": "can only concatenate tuple (not \"int\") to tuple",
     "output_type": "error",
     "traceback": [
      "\u001b[1;31m---------------------------------------------------------------------------\u001b[0m",
      "\u001b[1;31mTypeError\u001b[0m                                 Traceback (most recent call last)",
      "\u001b[1;32mc:\\Users\\Robotux\\Documents\\Python\\20230104VCSDMAVAK\\lesson_3.ipynb Cell 10\u001b[0m in \u001b[0;36m<module>\u001b[1;34m\u001b[0m\n\u001b[1;32m----> <a href='vscode-notebook-cell:/c%3A/Users/Robotux/Documents/Python/20230104VCSDMAVAK/lesson_3.ipynb#X12sZmlsZQ%3D%3D?line=0'>1</a>\u001b[0m my_tuple \u001b[39m+\u001b[39;49m \u001b[39m5\u001b[39;49m\n",
      "\u001b[1;31mTypeError\u001b[0m: can only concatenate tuple (not \"int\") to tuple"
     ]
    }
   ],
   "source": [
    "my_tuple + 5 # klaida"
   ]
  },
  {
   "cell_type": "code",
   "execution_count": 12,
   "metadata": {},
   "outputs": [
    {
     "name": "stdout",
     "output_type": "stream",
     "text": [
      "(1, 5, 'b', 54, 1)\n",
      "(1, 5, 'b')\n"
     ]
    }
   ],
   "source": [
    "print (my_tuple + (54,1) )\n",
    "print (my_tuple )"
   ]
  },
  {
   "cell_type": "code",
   "execution_count": 14,
   "metadata": {},
   "outputs": [
    {
     "name": "stdout",
     "output_type": "stream",
     "text": [
      "5\n",
      "(5, 'b')\n"
     ]
    }
   ],
   "source": [
    "print (my_tuple[1])\n",
    "print (my_tuple[1:])"
   ]
  },
  {
   "cell_type": "code",
   "execution_count": 15,
   "metadata": {},
   "outputs": [
    {
     "name": "stdout",
     "output_type": "stream",
     "text": [
      "(1, 5, 'b', 54, 1)\n"
     ]
    }
   ],
   "source": [
    "my_tuple = ( 1,5,'b' )\n",
    "my_tuple = my_tuple + (54,1)\n",
    "print (my_tuple)"
   ]
  },
  {
   "cell_type": "code",
   "execution_count": 17,
   "metadata": {},
   "outputs": [
    {
     "name": "stdout",
     "output_type": "stream",
     "text": [
      "2\n"
     ]
    }
   ],
   "source": [
    "print (my_tuple.count(1) )"
   ]
  },
  {
   "cell_type": "code",
   "execution_count": 19,
   "metadata": {},
   "outputs": [
    {
     "name": "stdout",
     "output_type": "stream",
     "text": [
      "3\n"
     ]
    },
    {
     "ename": "ValueError",
     "evalue": "tuple.index(x): x not in tuple",
     "output_type": "error",
     "traceback": [
      "\u001b[1;31m---------------------------------------------------------------------------\u001b[0m",
      "\u001b[1;31mValueError\u001b[0m                                Traceback (most recent call last)",
      "\u001b[1;32mc:\\Users\\Robotux\\Documents\\Python\\20230104VCSDMAVAK\\lesson_3.ipynb Cell 15\u001b[0m in \u001b[0;36m<module>\u001b[1;34m\u001b[0m\n\u001b[0;32m      <a href='vscode-notebook-cell:/c%3A/Users/Robotux/Documents/Python/20230104VCSDMAVAK/lesson_3.ipynb#X20sZmlsZQ%3D%3D?line=0'>1</a>\u001b[0m \u001b[39mprint\u001b[39m (my_tuple\u001b[39m.\u001b[39mindex(\u001b[39m54\u001b[39m) )\n\u001b[1;32m----> <a href='vscode-notebook-cell:/c%3A/Users/Robotux/Documents/Python/20230104VCSDMAVAK/lesson_3.ipynb#X20sZmlsZQ%3D%3D?line=1'>2</a>\u001b[0m \u001b[39mprint\u001b[39m (my_tuple\u001b[39m.\u001b[39;49mindex(\u001b[39m100\u001b[39;49m) )\n",
      "\u001b[1;31mValueError\u001b[0m: tuple.index(x): x not in tuple"
     ]
    }
   ],
   "source": [
    "print (my_tuple.index(54) )\n",
    "# print (my_tuple.index(100) ) # klaida"
   ]
  },
  {
   "cell_type": "code",
   "execution_count": 22,
   "metadata": {},
   "outputs": [
    {
     "name": "stdout",
     "output_type": "stream",
     "text": [
      "5\n",
      "False\n",
      "True\n"
     ]
    }
   ],
   "source": [
    "print (len(my_tuple) )\n",
    "print ( 100 in my_tuple )\n",
    "print ( 1 in my_tuple )"
   ]
  },
  {
   "cell_type": "code",
   "execution_count": 24,
   "metadata": {},
   "outputs": [
    {
     "name": "stdout",
     "output_type": "stream",
     "text": [
      "[1, 5, 'b', 54, 1]\n",
      "<class 'list'>\n",
      "(1, 5, 'b', 54, 1)\n",
      "(1, 5, 'b', 54, 1)\n"
     ]
    }
   ],
   "source": [
    "my_list = list( my_tuple )\n",
    "print (my_list)\n",
    "print (type(my_list) )\n",
    "print (my_tuple)\n",
    "\n",
    "my_tuple = tuple( my_list )\n",
    "print (my_tuple)"
   ]
  },
  {
   "cell_type": "code",
   "execution_count": 27,
   "metadata": {},
   "outputs": [
    {
     "name": "stdout",
     "output_type": "stream",
     "text": [
      "(1, 2, ['3', 4, 5], [6, [7, 8]])\n",
      "[6, [7, 8]]\n",
      "[7, 8]\n",
      "8\n",
      "8\n"
     ]
    }
   ],
   "source": [
    "my_tuple = (1, 2, ['3', 4, 5], [6, [7, (8)]])\n",
    "print (my_tuple)\n",
    "print (my_tuple[3] )\n",
    "print (my_tuple[3][1] )\n",
    "print (my_tuple[3][1][1] )\n",
    "print( my_tuple[-1][-1][-1])"
   ]
  },
  {
   "cell_type": "code",
   "execution_count": 29,
   "metadata": {},
   "outputs": [
    {
     "name": "stdout",
     "output_type": "stream",
     "text": [
      "[11, [222, 33], 44, 55]\n",
      "[11, [222, 22], 44, 55]\n",
      "(11, [222, 22], 44, 55)\n"
     ]
    }
   ],
   "source": [
    "tuple1 = (11, [222, 33], 44, 55)\n",
    "list1 = list(tuple1)\n",
    "print (list1)\n",
    "list1[1][1] = 22\n",
    "print (list1)\n",
    "tuple1 = tuple(list1)\n",
    "print(tuple1)"
   ]
  },
  {
   "cell_type": "code",
   "execution_count": 30,
   "metadata": {},
   "outputs": [
    {
     "name": "stdout",
     "output_type": "stream",
     "text": [
      "(11, [222, 22], 44, 55)\n"
     ]
    }
   ],
   "source": [
    "tuple1 = (11, [222, 33], 44, 55)\n",
    "tuple1[1][1] = 22\n",
    "print (tuple1)"
   ]
  },
  {
   "cell_type": "code",
   "execution_count": 33,
   "metadata": {},
   "outputs": [
    {
     "name": "stdout",
     "output_type": "stream",
     "text": [
      "(1, 2, 76, 6, 88, 3, 1, 1)\n",
      "[1, 2, 76, 6, 88, 3, 1]\n",
      "(1, 1, 2, 3, 6, 76, 88)\n",
      "2\n",
      "88\n",
      "88\n"
     ]
    }
   ],
   "source": [
    "tuple2 = (1, 2, 76, 6)\n",
    "tuple3 = (88, 3, 1, 1)\n",
    "tuple_new = tuple2 + tuple3\n",
    "print(tuple_new)\n",
    "list_new = list(tuple_new)\n",
    "# list_new.pop(-1)\n",
    "list_new.pop()\n",
    "\n",
    "# tuple_new = tuple(list_new)\n",
    "print(list_new)\n",
    "# list_new = list(tuple_new)\n",
    "list_new.sort()\n",
    "tuple_new = tuple(list_new)\n",
    "print(tuple_new)\n",
    "print(tuple_new.count(1))\n",
    "print(tuple_new[-1])\n",
    "\n",
    "print( max( tuple_new ) )"
   ]
  },
  {
   "attachments": {},
   "cell_type": "markdown",
   "metadata": {},
   "source": [
    "# Range"
   ]
  },
  {
   "cell_type": "code",
   "execution_count": null,
   "metadata": {},
   "outputs": [],
   "source": [
    "list = [452] # perrasom komanda"
   ]
  },
  {
   "cell_type": "code",
   "execution_count": 39,
   "metadata": {},
   "outputs": [
    {
     "name": "stdout",
     "output_type": "stream",
     "text": [
      "range(0, 10)\n",
      "<class 'range'>\n",
      "[0, 1, 2, 3, 4, 5, 6, 7, 8, 9]\n",
      "[-5, -4, -3, -2, -1, 0, 1, 2, 3, 4, 5, 6, 7, 8, 9]\n",
      "[-5, -2, 1, 4, 7]\n",
      "[100, 85, 70, 55, 40, 25, 10, -5, -20]\n"
     ]
    }
   ],
   "source": [
    "print ( range(10) )\n",
    "print ( type ( range(10) ) )\n",
    "print ( list( range(10) ) )\n",
    "print ( list( range(-5, 10) ) )\n",
    "print ( list( range(-5, 10, 3) ) )\n",
    "print ( list( range(100, -32, -15) ) )\n",
    "# range(start, end, step)"
   ]
  },
  {
   "attachments": {},
   "cell_type": "markdown",
   "metadata": {},
   "source": [
    "# For loop (for ciklas)"
   ]
  },
  {
   "cell_type": "code",
   "execution_count": 47,
   "metadata": {},
   "outputs": [
    {
     "name": "stdout",
     "output_type": "stream",
     "text": [
      "Vilnius yra nuostabus miestas\n",
      "Kaunas yra nuostabus miestas\n",
      "Klaipeda yra nuostabus miestas\n",
      "Siauliai yra nuostabus miestas\n",
      "pabaiga\n"
     ]
    }
   ],
   "source": [
    "miestai = ['Vilnius', 'Kaunas', 'Klaipeda', 'Siauliai']\n",
    "\n",
    "# for <sugalvotas zodis> in <sarasas/tuple/tekstas/range>:\n",
    "for miestas in miestai:\n",
    "    # print(miestas)\n",
    "    # print(miestai)\n",
    "    print(f'{miestas} yra nuostabus miestas')\n",
    "print('pabaiga')"
   ]
  },
  {
   "cell_type": "code",
   "execution_count": 48,
   "metadata": {},
   "outputs": [
    {
     "name": "stdout",
     "output_type": "stream",
     "text": [
      "Vilnius yra nuostabus miestas\n",
      "Kaunas yra nuostabus miestas\n",
      "Klaipeda yra nuostabus miestas\n",
      "Siauliai yra nuostabus miestas\n"
     ]
    }
   ],
   "source": [
    "for x in miestai: # venkite neaiskiu pavadinimu\n",
    "    print(f'{x} yra nuostabus miestas')"
   ]
  },
  {
   "cell_type": "code",
   "execution_count": 50,
   "metadata": {},
   "outputs": [
    {
     "name": "stdout",
     "output_type": "stream",
     "text": [
      "9\n",
      "49\n",
      "121\n",
      "225\n",
      "361\n",
      "529\n",
      "729\n",
      "961\n",
      "1225\n",
      "1521\n",
      "1849\n"
     ]
    }
   ],
   "source": [
    "for number in range(3,46,4):\n",
    "    print (number**2)"
   ]
  },
  {
   "cell_type": "code",
   "execution_count": 52,
   "metadata": {},
   "outputs": [
    {
     "name": "stdout",
     "output_type": "stream",
     "text": [
      "tarpine suma: 13.4\n",
      "tarpine sandauga: 13.4\n",
      "tarpine suma: 159.85\n",
      "tarpine sandauga: 1962.4299999999998\n",
      "tarpine suma: 705.85\n",
      "tarpine sandauga: 1071486.7799999998\n",
      "tarpine suma: 759.85\n",
      "tarpine sandauga: 57860286.11999999\n",
      "galutine suma: 759.85\n",
      "galutine sandauga: 57860286.11999999\n"
     ]
    }
   ],
   "source": [
    "mokejimai = [ 13.4, 146.45, 546, 54]\n",
    "\n",
    "suma = 0\n",
    "sandauga = 1\n",
    "for mokejimas in mokejimai:\n",
    "    suma += mokejimas\n",
    "    print( f\"tarpine suma: {suma}\")\n",
    "    sandauga *= mokejimas\n",
    "    print( f\"tarpine sandauga: {sandauga}\")\n",
    "\n",
    "print(f\"galutine suma: {suma}\")\n",
    "print( f\"galutine sandauga: {sandauga}\")"
   ]
  },
  {
   "cell_type": "code",
   "execution_count": 53,
   "metadata": {},
   "outputs": [
    {
     "name": "stdout",
     "output_type": "stream",
     "text": [
      "759.85\n"
     ]
    }
   ],
   "source": [
    "print( sum(mokejimai) )"
   ]
  },
  {
   "attachments": {},
   "cell_type": "markdown",
   "metadata": {},
   "source": [
    "https://docs.python.org/3/library/functions.html"
   ]
  },
  {
   "cell_type": "code",
   "execution_count": 54,
   "metadata": {},
   "outputs": [],
   "source": [
    "human_input = input('Koks jusu vardas?')"
   ]
  },
  {
   "cell_type": "code",
   "execution_count": 55,
   "metadata": {},
   "outputs": [
    {
     "name": "stdout",
     "output_type": "stream",
     "text": [
      "Darius\n"
     ]
    }
   ],
   "source": [
    "print( human_input )"
   ]
  },
  {
   "cell_type": "code",
   "execution_count": 56,
   "metadata": {},
   "outputs": [],
   "source": [
    "human_input = input('Irasykite skaiciu nuo 1 iki 10')"
   ]
  },
  {
   "cell_type": "code",
   "execution_count": 58,
   "metadata": {},
   "outputs": [
    {
     "name": "stdout",
     "output_type": "stream",
     "text": [
      "5\n",
      "<class 'str'>\n"
     ]
    }
   ],
   "source": [
    "print(human_input)\n",
    "print( type(human_input) )"
   ]
  },
  {
   "cell_type": "code",
   "execution_count": 60,
   "metadata": {},
   "outputs": [
    {
     "name": "stdout",
     "output_type": "stream",
     "text": [
      "1\n",
      "2\n",
      "3\n",
      "4\n",
      "5\n",
      "6\n",
      "7\n",
      "8\n",
      "9\n",
      "10\n",
      "antra dalis\n",
      "1275\n"
     ]
    }
   ],
   "source": [
    "for skaicius in range (1,11):\n",
    "    print(skaicius)\n",
    "\n",
    "print ('antra dalis')\n",
    "suma = 0\n",
    "for skaicius in range (1,51):\n",
    "    # suma = suma + skaicius\n",
    "    suma += skaicius\n",
    "print(suma)"
   ]
  },
  {
   "cell_type": "code",
   "execution_count": 65,
   "metadata": {},
   "outputs": [
    {
     "name": "stdout",
     "output_type": "stream",
     "text": [
      "<class 'str'>\n",
      "8\n",
      "<class 'int'>\n",
      "8x1 = 8\n",
      "8x2 = 16\n",
      "8x3 = 24\n",
      "8x4 = 32\n",
      "8x5 = 40\n",
      "8x6 = 48\n",
      "8x7 = 56\n",
      "8x8 = 64\n",
      "8x9 = 72\n",
      "8x10 = 80\n"
     ]
    }
   ],
   "source": [
    "skaicius = input('iveskite skaiciu')\n",
    "print( type(skaicius) )\n",
    "skaicius = int( skaicius )\n",
    "print( skaicius)\n",
    "print( type(skaicius) )\n",
    "\n",
    "for x in range(1,11):\n",
    "    print(f'{skaicius}x{x} = {skaicius*x}')"
   ]
  },
  {
   "cell_type": "code",
   "execution_count": 72,
   "metadata": {},
   "outputs": [
    {
     "name": "stdout",
     "output_type": "stream",
     "text": [
      "Pirmadienis\n",
      "10\n",
      "mazo ciklo pabaiga\n",
      "11\n",
      "mazo ciklo pabaiga\n",
      "12\n",
      "mazo ciklo pabaiga\n",
      "13\n",
      "mazo ciklo pabaiga\n",
      "14\n",
      "mazo ciklo pabaiga\n",
      "15\n",
      "mazo ciklo pabaiga\n",
      "16\n",
      "mazo ciklo pabaiga\n",
      "17\n",
      "mazo ciklo pabaiga\n",
      "18\n",
      "mazo ciklo pabaiga\n",
      "19\n",
      "mazo ciklo pabaiga\n",
      "didelio ciklo pabaiga\n",
      "Antradienis\n",
      "10\n",
      "mazo ciklo pabaiga\n",
      "11\n",
      "mazo ciklo pabaiga\n",
      "12\n",
      "mazo ciklo pabaiga\n",
      "13\n",
      "mazo ciklo pabaiga\n",
      "14\n",
      "mazo ciklo pabaiga\n",
      "15\n",
      "mazo ciklo pabaiga\n",
      "16\n",
      "mazo ciklo pabaiga\n",
      "17\n",
      "mazo ciklo pabaiga\n",
      "18\n",
      "mazo ciklo pabaiga\n",
      "19\n",
      "mazo ciklo pabaiga\n",
      "didelio ciklo pabaiga\n",
      "Treciadienis\n",
      "10\n",
      "mazo ciklo pabaiga\n",
      "11\n",
      "mazo ciklo pabaiga\n",
      "12\n",
      "mazo ciklo pabaiga\n",
      "13\n",
      "mazo ciklo pabaiga\n",
      "14\n",
      "mazo ciklo pabaiga\n",
      "15\n",
      "mazo ciklo pabaiga\n",
      "16\n",
      "mazo ciklo pabaiga\n",
      "17\n",
      "mazo ciklo pabaiga\n",
      "18\n",
      "mazo ciklo pabaiga\n",
      "19\n",
      "mazo ciklo pabaiga\n",
      "didelio ciklo pabaiga\n",
      "Ketvirtadienis\n",
      "10\n",
      "mazo ciklo pabaiga\n",
      "11\n",
      "mazo ciklo pabaiga\n",
      "12\n",
      "mazo ciklo pabaiga\n",
      "13\n",
      "mazo ciklo pabaiga\n",
      "14\n",
      "mazo ciklo pabaiga\n",
      "15\n",
      "mazo ciklo pabaiga\n",
      "16\n",
      "mazo ciklo pabaiga\n",
      "17\n",
      "mazo ciklo pabaiga\n",
      "18\n",
      "mazo ciklo pabaiga\n",
      "19\n",
      "mazo ciklo pabaiga\n",
      "didelio ciklo pabaiga\n",
      "Penktadienis\n",
      "10\n",
      "mazo ciklo pabaiga\n",
      "11\n",
      "mazo ciklo pabaiga\n",
      "12\n",
      "mazo ciklo pabaiga\n",
      "13\n",
      "mazo ciklo pabaiga\n",
      "14\n",
      "mazo ciklo pabaiga\n",
      "15\n",
      "mazo ciklo pabaiga\n",
      "16\n",
      "mazo ciklo pabaiga\n",
      "17\n",
      "mazo ciklo pabaiga\n",
      "18\n",
      "mazo ciklo pabaiga\n",
      "19\n",
      "mazo ciklo pabaiga\n",
      "didelio ciklo pabaiga\n",
      "Sestadienis\n",
      "10\n",
      "mazo ciklo pabaiga\n",
      "11\n",
      "mazo ciklo pabaiga\n",
      "12\n",
      "mazo ciklo pabaiga\n",
      "13\n",
      "mazo ciklo pabaiga\n",
      "14\n",
      "mazo ciklo pabaiga\n",
      "15\n",
      "mazo ciklo pabaiga\n",
      "16\n",
      "mazo ciklo pabaiga\n",
      "17\n",
      "mazo ciklo pabaiga\n",
      "18\n",
      "mazo ciklo pabaiga\n",
      "19\n",
      "mazo ciklo pabaiga\n",
      "didelio ciklo pabaiga\n",
      "Sekmadienis\n",
      "10\n",
      "mazo ciklo pabaiga\n",
      "11\n",
      "mazo ciklo pabaiga\n",
      "12\n",
      "mazo ciklo pabaiga\n",
      "13\n",
      "mazo ciklo pabaiga\n",
      "14\n",
      "mazo ciklo pabaiga\n",
      "15\n",
      "mazo ciklo pabaiga\n",
      "16\n",
      "mazo ciklo pabaiga\n",
      "17\n",
      "mazo ciklo pabaiga\n",
      "18\n",
      "mazo ciklo pabaiga\n",
      "19\n",
      "mazo ciklo pabaiga\n",
      "didelio ciklo pabaiga\n",
      "[('Pirmadienis', 10), ('Pirmadienis', 11), ('Pirmadienis', 12), ('Pirmadienis', 13), ('Pirmadienis', 14), ('Pirmadienis', 15), ('Pirmadienis', 16), ('Pirmadienis', 17), ('Pirmadienis', 18), ('Pirmadienis', 19), ('Antradienis', 10), ('Antradienis', 11), ('Antradienis', 12), ('Antradienis', 13), ('Antradienis', 14), ('Antradienis', 15), ('Antradienis', 16), ('Antradienis', 17), ('Antradienis', 18), ('Antradienis', 19), ('Treciadienis', 10), ('Treciadienis', 11), ('Treciadienis', 12), ('Treciadienis', 13), ('Treciadienis', 14), ('Treciadienis', 15), ('Treciadienis', 16), ('Treciadienis', 17), ('Treciadienis', 18), ('Treciadienis', 19), ('Ketvirtadienis', 10), ('Ketvirtadienis', 11), ('Ketvirtadienis', 12), ('Ketvirtadienis', 13), ('Ketvirtadienis', 14), ('Ketvirtadienis', 15), ('Ketvirtadienis', 16), ('Ketvirtadienis', 17), ('Ketvirtadienis', 18), ('Ketvirtadienis', 19), ('Penktadienis', 10), ('Penktadienis', 11), ('Penktadienis', 12), ('Penktadienis', 13), ('Penktadienis', 14), ('Penktadienis', 15), ('Penktadienis', 16), ('Penktadienis', 17), ('Penktadienis', 18), ('Penktadienis', 19), ('Sestadienis', 10), ('Sestadienis', 11), ('Sestadienis', 12), ('Sestadienis', 13), ('Sestadienis', 14), ('Sestadienis', 15), ('Sestadienis', 16), ('Sestadienis', 17), ('Sestadienis', 18), ('Sestadienis', 19), ('Sekmadienis', 10), ('Sekmadienis', 11), ('Sekmadienis', 12), ('Sekmadienis', 13), ('Sekmadienis', 14), ('Sekmadienis', 15), ('Sekmadienis', 16), ('Sekmadienis', 17), ('Sekmadienis', 18), ('Sekmadienis', 19)]\n"
     ]
    }
   ],
   "source": [
    "dienos = ('Pirmadienis', 'Antradienis', 'Treciadienis', 'Ketvirtadienis', 'Penktadienis', 'Sestadienis' , 'Sekmadienis')\n",
    "valandos = [10, 11, 12, 13, 14, 15, 16, 17, 18, 19]\n",
    "\n",
    "kombinacijos = []\n",
    "\n",
    "for diena in dienos:\n",
    "    # print(diena)\n",
    "    for valanda in valandos:\n",
    "        # print(valanda)\n",
    "        kombinacijos.append( (diena, valanda) )\n",
    "        # print('mazo ciklo pabaiga')\n",
    "    # print('didelio ciklo pabaiga')\n",
    "\n",
    "print (kombinacijos)\n",
    "\n",
    "\n"
   ]
  },
  {
   "attachments": {},
   "cell_type": "markdown",
   "metadata": {},
   "source": [
    "# If statement (if salygos)"
   ]
  },
  {
   "cell_type": "code",
   "execution_count": 86,
   "metadata": {},
   "outputs": [
    {
     "name": "stdout",
     "output_type": "stream",
     "text": [
      "Jums yra tarp 2 ir 8 metu\n",
      "pabaiga\n"
     ]
    }
   ],
   "source": [
    "age = int( input('iveskite amziu:') )\n",
    "\n",
    "# vykdoma tik viena dalis, kuri yra True\n",
    "if age >= 18:\n",
    "    print(f'Jums yra {age} metu, jus esate pilnametis')\n",
    "# Negera salygu tvarka\n",
    "# elif age > 2:\n",
    "#     print('Jums yra tarp 2 ir 8 metu')\n",
    "elif age > 12:\n",
    "    print('Jums yra tarp 12 ir 18 metu')\n",
    "elif age > 8:\n",
    "    print('Jums yra tarp 8 ir 12 metu')\n",
    "elif age > 2:\n",
    "    print('Jums yra tarp 2 ir 8 metu')\n",
    "else:\n",
    "    print('Jus esate nepilnametis')\n",
    "\n",
    "print('pabaiga')"
   ]
  },
  {
   "cell_type": "code",
   "execution_count": 91,
   "metadata": {},
   "outputs": [
    {
     "name": "stdout",
     "output_type": "stream",
     "text": [
      "3546347\n",
      "nelyginis\n"
     ]
    }
   ],
   "source": [
    "x = int( input('iveskite skaiciu:') )\n",
    "print( x )\n",
    "\n",
    "if x % 2 == 0:\n",
    "    print('lyginis')\n",
    "else:\n",
    "    print('nelyginis')\n"
   ]
  },
  {
   "cell_type": "code",
   "execution_count": 92,
   "metadata": {},
   "outputs": [
    {
     "name": "stdout",
     "output_type": "stream",
     "text": [
      "3\n",
      "6\n",
      "9\n",
      "12\n",
      "15\n",
      "18\n"
     ]
    }
   ],
   "source": [
    "for i in range(1,21):\n",
    "    if i % 3 == 0:\n",
    "        print(i)"
   ]
  },
  {
   "cell_type": "code",
   "execution_count": 93,
   "metadata": {},
   "outputs": [
    {
     "name": "stdout",
     "output_type": "stream",
     "text": [
      "2\n",
      "6\n",
      "12\n",
      "20\n",
      "30\n",
      "42\n",
      "56\n",
      "72\n",
      "90\n",
      "110\n",
      "132\n",
      "156\n",
      "182\n",
      "210\n",
      "240\n",
      "272\n",
      "306\n",
      "342\n",
      "380\n",
      "420\n",
      "462\n",
      "506\n",
      "552\n",
      "600\n",
      "650\n"
     ]
    }
   ],
   "source": [
    "suma = 0\n",
    "for i in range(1,51):\n",
    "    if (suma + i) % 2 == 0:\n",
    "        suma += i\n",
    "        print(suma)"
   ]
  },
  {
   "cell_type": "code",
   "execution_count": 98,
   "metadata": {},
   "outputs": [
    {
     "name": "stdout",
     "output_type": "stream",
     "text": [
      "pasirinktas skaičius pakeltas kvadratu yra lyginis\n"
     ]
    }
   ],
   "source": [
    "pasirinktas_skaicius = int( input('iveskite skaiciu') )\n",
    "\n",
    "if (pasirinktas_skaicius ** 2) % 2 != 0:\n",
    "    for i in range(1,11):\n",
    "        print( pasirinktas_skaicius * i )\n",
    "else:\n",
    "    print( 'pasirinktas skaičius pakeltas kvadratu yra lyginis' )"
   ]
  },
  {
   "cell_type": "code",
   "execution_count": null,
   "metadata": {},
   "outputs": [],
   "source": []
  }
 ],
 "metadata": {
  "kernelspec": {
   "display_name": "Python 3",
   "language": "python",
   "name": "python3"
  },
  "language_info": {
   "codemirror_mode": {
    "name": "ipython",
    "version": 3
   },
   "file_extension": ".py",
   "mimetype": "text/x-python",
   "name": "python",
   "nbconvert_exporter": "python",
   "pygments_lexer": "ipython3",
   "version": "3.10.2"
  },
  "orig_nbformat": 4,
  "vscode": {
   "interpreter": {
    "hash": "db50a459ab6695ace3368e8957af3456c8c93e92d9fe6c38987133d01669da40"
   }
  }
 },
 "nbformat": 4,
 "nbformat_minor": 2
}
