{
 "cells": [
  {
   "attachments": {},
   "cell_type": "markdown",
   "metadata": {},
   "source": [
    "# Strings"
   ]
  },
  {
   "cell_type": "code",
   "execution_count": 2,
   "metadata": {},
   "outputs": [],
   "source": [
    "name = 'Darius'\n",
    "number_str = '5'"
   ]
  },
  {
   "cell_type": "code",
   "execution_count": 5,
   "metadata": {},
   "outputs": [
    {
     "name": "stdout",
     "output_type": "stream",
     "text": [
      "True\n",
      "False\n",
      "1973 \n",
      "1973\n",
      "True\n"
     ]
    }
   ],
   "source": [
    "print ('1973'.isdigit() )\n",
    "print ('1973 '.isdigit() )\n",
    "print ('1973 ')\n",
    "print ('1973 '.strip() )\n",
    "print ('1973 '.strip().isdigit() )"
   ]
  },
  {
   "attachments": {},
   "cell_type": "markdown",
   "metadata": {},
   "source": [
    "### string operations"
   ]
  },
  {
   "cell_type": "code",
   "execution_count": 7,
   "metadata": {},
   "outputs": [
    {
     "data": {
      "text/plain": [
       "'Darius Grigaliunas'"
      ]
     },
     "execution_count": 7,
     "metadata": {},
     "output_type": "execute_result"
    }
   ],
   "source": [
    "'Darius' + ' ' + 'Grigaliunas'"
   ]
  },
  {
   "cell_type": "code",
   "execution_count": 8,
   "metadata": {},
   "outputs": [
    {
     "ename": "TypeError",
     "evalue": "unsupported operand type(s) for -: 'str' and 'str'",
     "output_type": "error",
     "traceback": [
      "\u001b[1;31m---------------------------------------------------------------------------\u001b[0m",
      "\u001b[1;31mTypeError\u001b[0m                                 Traceback (most recent call last)",
      "\u001b[1;32mc:\\Users\\Robotux\\Documents\\Python\\20230104VCSDMAVAK\\lesson_2.ipynb Cell 6\u001b[0m in \u001b[0;36m<module>\u001b[1;34m\u001b[0m\n\u001b[1;32m----> <a href='vscode-notebook-cell:/c%3A/Users/Robotux/Documents/Python/20230104VCSDMAVAK/lesson_2.ipynb#X22sZmlsZQ%3D%3D?line=0'>1</a>\u001b[0m \u001b[39m'\u001b[39;49m\u001b[39mDarius\u001b[39;49m\u001b[39m'\u001b[39;49m \u001b[39m-\u001b[39;49m \u001b[39m'\u001b[39;49m\u001b[39mi\u001b[39;49m\u001b[39m'\u001b[39;49m\n",
      "\u001b[1;31mTypeError\u001b[0m: unsupported operand type(s) for -: 'str' and 'str'"
     ]
    }
   ],
   "source": [
    "'Darius' - 'i' # neveikia"
   ]
  },
  {
   "cell_type": "code",
   "execution_count": 10,
   "metadata": {},
   "outputs": [
    {
     "data": {
      "text/plain": [
       "'hi hi hi hi hi hi hi hi hi hi hi hi hi hi hi hi hi hi hi hi hi hi hi hi hi hi hi hi hi hi hi hi hi hi hi hi hi hi hi hi hi hi hi hi hi hi hi hi hi hi hi hi hi hi hi hi hi hi hi hi hi hi hi hi hi hi hi hi hi hi hi hi hi hi hi hi hi hi hi hi hi hi hi hi hi hi hi hi hi hi hi hi hi hi hi hi hi hi hi hi '"
      ]
     },
     "execution_count": 10,
     "metadata": {},
     "output_type": "execute_result"
    }
   ],
   "source": [
    "'hi ' * 100"
   ]
  },
  {
   "cell_type": "code",
   "execution_count": 11,
   "metadata": {},
   "outputs": [
    {
     "ename": "TypeError",
     "evalue": "unsupported operand type(s) for /: 'str' and 'int'",
     "output_type": "error",
     "traceback": [
      "\u001b[1;31m---------------------------------------------------------------------------\u001b[0m",
      "\u001b[1;31mTypeError\u001b[0m                                 Traceback (most recent call last)",
      "\u001b[1;32mc:\\Users\\Robotux\\Documents\\Python\\20230104VCSDMAVAK\\lesson_2.ipynb Cell 8\u001b[0m in \u001b[0;36m<module>\u001b[1;34m\u001b[0m\n\u001b[1;32m----> <a href='vscode-notebook-cell:/c%3A/Users/Robotux/Documents/Python/20230104VCSDMAVAK/lesson_2.ipynb#X24sZmlsZQ%3D%3D?line=0'>1</a>\u001b[0m \u001b[39m'\u001b[39;49m\u001b[39mhi \u001b[39;49m\u001b[39m'\u001b[39;49m \u001b[39m/\u001b[39;49m \u001b[39m100\u001b[39;49m\n",
      "\u001b[1;31mTypeError\u001b[0m: unsupported operand type(s) for /: 'str' and 'int'"
     ]
    }
   ],
   "source": [
    "'hi ' / 100 # neveikia"
   ]
  },
  {
   "attachments": {},
   "cell_type": "markdown",
   "metadata": {},
   "source": [
    "### String formating. f-string"
   ]
  },
  {
   "cell_type": "code",
   "execution_count": 20,
   "metadata": {},
   "outputs": [
    {
     "name": "stdout",
     "output_type": "stream",
     "text": [
      "Darius Grigaliunas, nice to meet you! Your number is 57\n",
      "Darius Grigaliunas, nice to meet you! Your number is 57\n",
      "  Darius   Grigaliunas, nice to meet you! Your number is 57\n",
      "Darius Grigaliunas, nice to meet you! Your number is 57\n",
      "Darius Grigaliunas, nice to meet you! Your number is 62\n"
     ]
    }
   ],
   "source": [
    "name = 'Darius'\n",
    "surname = 'Grigaliunas'\n",
    "number = 57\n",
    "# konvertuoja skaiciu i teksta: str(number)\n",
    "print( name + ' ' + surname + ', nice to meet you! Your number is ' + str(number) )\n",
    "\n",
    "# f-string\n",
    "print( f'{name} {surname}, nice to meet you! Your number is {number}' )\n",
    "print( f'  {name}   {surname}, nice to meet you! Your number is {number}' )\n",
    "print( f'{     name        } {       surname}, nice to meet you! Your number is {number}' )\n",
    "print( f'{     name        } {       surname}, nice to meet you! Your number is {number + 5 }' )"
   ]
  },
  {
   "cell_type": "code",
   "execution_count": null,
   "metadata": {},
   "outputs": [],
   "source": []
  },
  {
   "attachments": {},
   "cell_type": "markdown",
   "metadata": {},
   "source": [
    "# Numbers"
   ]
  },
  {
   "cell_type": "code",
   "execution_count": 22,
   "metadata": {},
   "outputs": [
    {
     "name": "stdout",
     "output_type": "stream",
     "text": [
      "<class 'str'>\n",
      "<class 'int'>\n",
      "<class 'float'>\n"
     ]
    }
   ],
   "source": [
    "number_text = '43'\n",
    "number = 423\n",
    "\n",
    "float_number = 1.5\n",
    "\n",
    "print( type(number_text) )\n",
    "print( type(number) )\n",
    "print( type(float_number) )"
   ]
  },
  {
   "attachments": {},
   "cell_type": "markdown",
   "metadata": {},
   "source": [
    "### Operators"
   ]
  },
  {
   "cell_type": "code",
   "execution_count": 32,
   "metadata": {},
   "outputs": [
    {
     "name": "stdout",
     "output_type": "stream",
     "text": [
      "424.5\n",
      "<class 'float'>\n",
      "5\n",
      "50\n",
      "2.0\n",
      "dalybos sveikoji dalis\n",
      "4\n",
      "4\n",
      "4\n",
      "5\n"
     ]
    }
   ],
   "source": [
    "suma = number + float_number\n",
    "print(suma)\n",
    "print(type(suma))\n",
    "print(10 - 5 )\n",
    "print(10 * 5 )\n",
    "print(10 / 5 )\n",
    "\n",
    "print( 'dalybos sveikoji dalis')\n",
    "print(14 // 3 ) # sveika dali\n",
    "print(13 // 3 ) # sveika dali\n",
    "print(12 // 3 ) # sveika dali\n",
    "print(15 // 3 ) # sveika dali"
   ]
  },
  {
   "cell_type": "code",
   "execution_count": 36,
   "metadata": {},
   "outputs": [
    {
     "name": "stdout",
     "output_type": "stream",
     "text": [
      "dalybos liekana\n",
      "2\n",
      "1\n",
      "0\n",
      "0\n",
      "lyginis ar ne\n",
      "1\n",
      "0\n"
     ]
    }
   ],
   "source": [
    "print( 'dalybos liekana')\n",
    "print(14 % 3 ) \n",
    "print(13 % 3 ) \n",
    "print(12 % 3 ) \n",
    "print(15 % 3 )\n",
    "\n",
    "print( 'lyginis ar ne')\n",
    "print( 11 % 2 )\n",
    "print( 16 % 2 )"
   ]
  },
  {
   "cell_type": "code",
   "execution_count": 41,
   "metadata": {},
   "outputs": [
    {
     "name": "stdout",
     "output_type": "stream",
     "text": [
      "kelimas laipsniu\n",
      "2^2 = 4\n",
      "2^3 = 8\n",
      "2^4 = 16\n",
      "6^4 = 1296\n"
     ]
    }
   ],
   "source": [
    "print ('kelimas laipsniu')\n",
    "print( f'{2}^{2} = {2 ** 2}'  )\n",
    "print( f'{2}^{3} = {2 ** 3}'  )\n",
    "print( f'{2}^{4} = {2 ** 4}'  )\n",
    "print( f'{6}^{4} = {6 ** 4}'  )"
   ]
  },
  {
   "cell_type": "code",
   "execution_count": 45,
   "metadata": {},
   "outputs": [
    {
     "name": "stdout",
     "output_type": "stream",
     "text": [
      "9.600000000000001\n",
      "9.600000000000001\n",
      "sandauga: 22.680000000000003\n"
     ]
    }
   ],
   "source": [
    "suma = 0\n",
    "\n",
    "kaina_1 = 5.4\n",
    "kaina_2 = 4.2\n",
    "\n",
    "suma = suma + kaina_1\n",
    "suma = suma + kaina_2\n",
    "print ( suma )\n",
    "\n",
    "suma = 0\n",
    "# tas pats kaip ^^^^\n",
    "suma += kaina_1\n",
    "suma += kaina_2\n",
    "print ( suma )\n",
    "\n",
    "sandauga = 1\n",
    "sandauga *= kaina_1\n",
    "sandauga *= kaina_2\n",
    "print (f'sandauga: {sandauga}')\n",
    "# -= , /= , "
   ]
  },
  {
   "cell_type": "code",
   "execution_count": 46,
   "metadata": {},
   "outputs": [
    {
     "name": "stdout",
     "output_type": "stream",
     "text": [
      "256\n"
     ]
    }
   ],
   "source": [
    "skaicius = 4\n",
    "skaicius **= 2\n",
    "skaicius **= 2\n",
    "print (skaicius)"
   ]
  },
  {
   "cell_type": "code",
   "execution_count": 47,
   "metadata": {},
   "outputs": [
    {
     "name": "stdout",
     "output_type": "stream",
     "text": [
      "15\n",
      "-5\n",
      "50\n",
      "0.5\n",
      "5\n"
     ]
    }
   ],
   "source": [
    "int_1 = 5\n",
    "int_2 = 10\n",
    "\n",
    "print (int_1 + int_2)\n",
    "print (int_1 - int_2)\n",
    "print (int_1 * int_2)\n",
    "print (int_1 / int_2)\n",
    "print (int_1 % int_2)"
   ]
  },
  {
   "cell_type": "code",
   "execution_count": 48,
   "metadata": {},
   "outputs": [
    {
     "name": "stdout",
     "output_type": "stream",
     "text": [
      "16.04\n",
      "-5.039999999999999\n",
      "57.97\n",
      "0.5218216318785579\n",
      "5.5\n"
     ]
    }
   ],
   "source": [
    "float_1 = 5.5\n",
    "float_2 = 10.54\n",
    "\n",
    "print (float_1 + float_2)\n",
    "print (float_1 - float_2)\n",
    "print (float_1 * float_2)\n",
    "print (float_1 / float_2)\n",
    "print (float_1 % float_2)"
   ]
  },
  {
   "cell_type": "code",
   "execution_count": 53,
   "metadata": {},
   "outputs": [
    {
     "name": "stdout",
     "output_type": "stream",
     "text": [
      "Atstumas iki saules yra 390.625 kartu didesnis nei atstumas iki menulio \n",
      "390.625\n",
      "2560.0\n",
      "106.66666666666667\n",
      "3.5555555555555554\n",
      "0.2962962962962963\n",
      "153600.0\n",
      "9216000.0\n"
     ]
    }
   ],
   "source": [
    "dist_sun = 150_000_000 # same as dist_sun = 150000000\n",
    "dist_moon = 384_000\n",
    "\n",
    "speed_per_hour = 150\n",
    "\n",
    "print(f'Atstumas iki saules yra {dist_sun / dist_moon} kartu didesnis nei atstumas iki menulio ')\n",
    "print(dist_sun / dist_moon)\n",
    "day = speed_per_hour * 24\n",
    "month = day * 30\n",
    "year = month * 12\n",
    "minutes = speed_per_hour/60\n",
    "seconds = minutes/60\n",
    "\n",
    "print(dist_moon/speed_per_hour)\n",
    "print(dist_moon/day)\n",
    "print(dist_moon/month)\n",
    "print(dist_moon/year)\n",
    "print(dist_moon/minutes)\n",
    "print(dist_moon/seconds)\n"
   ]
  },
  {
   "cell_type": "code",
   "execution_count": 52,
   "metadata": {},
   "outputs": [
    {
     "name": "stdout",
     "output_type": "stream",
     "text": [
      "9855\n"
     ]
    }
   ],
   "source": [
    "year = 1996\n",
    "year_passed = (2023 - year) * 365\n",
    "print (year_passed)"
   ]
  },
  {
   "cell_type": "code",
   "execution_count": 55,
   "metadata": {},
   "outputs": [
    {
     "name": "stdout",
     "output_type": "stream",
     "text": [
      "13448\n",
      "0:00:00.000001\n"
     ]
    }
   ],
   "source": [
    "from datetime import date\n",
    "\n",
    "d0 = date(1986, 4, 15)\n",
    "d1 = date.today()\n",
    "delta = d1 - d0\n",
    "print(delta.days)\n",
    "print()"
   ]
  },
  {
   "attachments": {},
   "cell_type": "markdown",
   "metadata": {},
   "source": [
    "# Boolean"
   ]
  },
  {
   "cell_type": "code",
   "execution_count": 62,
   "metadata": {},
   "outputs": [
    {
     "name": "stdout",
     "output_type": "stream",
     "text": [
      "True\n",
      "<class 'bool'>\n",
      "True\n",
      "<class 'bool'>\n",
      "False\n",
      "1\n",
      "0\n"
     ]
    }
   ],
   "source": [
    "bool_true = True\n",
    "# bool_true = TRUE\n",
    "print(bool_true)\n",
    "print(type(bool_true) )\n",
    "bool_true = bool(1)\n",
    "print(bool_true)\n",
    "bool_false = False\n",
    "print(type(bool_false) )\n",
    "print(bool_false)\n",
    "\n",
    "print( int(bool_true) )\n",
    "print( int(bool_false) )"
   ]
  },
  {
   "cell_type": "code",
   "execution_count": 67,
   "metadata": {},
   "outputs": [
    {
     "name": "stdout",
     "output_type": "stream",
     "text": [
      "True\n",
      "True\n",
      "True\n",
      "True\n",
      "False\n"
     ]
    }
   ],
   "source": [
    "print( bool( 1 ) )\n",
    "print( bool( 2 ) )\n",
    "print( bool( 0.0001 ) )\n",
    "print( bool( -100 ) )\n",
    "print( bool( 0 ) ) # False tik 0, visa kita True"
   ]
  },
  {
   "cell_type": "code",
   "execution_count": 74,
   "metadata": {},
   "outputs": [
    {
     "name": "stdout",
     "output_type": "stream",
     "text": [
      "True\n",
      "False\n",
      "False\n",
      "True\n",
      "True\n",
      "5 == 5\n",
      "True\n",
      "5 != 5\n",
      "False\n",
      "6 != 5\n",
      "True\n"
     ]
    }
   ],
   "source": [
    "print( 2 < 5 )\n",
    "print( 10 < 5 )\n",
    "print( 2 > 5 )\n",
    "print( 10 > 5 )\n",
    "print( 5 >= 5 )\n",
    "\n",
    "print( \"5 == 5\" )\n",
    "print( 5 == 5 )\n",
    "\n",
    "print( \"5 != 5\" )\n",
    "print( 5 != 5 )\n",
    "print( \"6 != 5\" )\n",
    "print( 6 != 5 )"
   ]
  },
  {
   "cell_type": "code",
   "execution_count": 78,
   "metadata": {},
   "outputs": [
    {
     "name": "stdout",
     "output_type": "stream",
     "text": [
      "True\n",
      "False\n",
      "False\n",
      "True\n"
     ]
    }
   ],
   "source": [
    "text = 'Hello world'\n",
    "bool_text = 'd' in text\n",
    "print (bool_text)\n",
    "print ('D' in text)\n",
    "print (text.islower())\n",
    "print (text.lower().islower())"
   ]
  },
  {
   "cell_type": "code",
   "execution_count": 81,
   "metadata": {},
   "outputs": [
    {
     "name": "stdout",
     "output_type": "stream",
     "text": [
      "False\n",
      "True\n",
      "True\n"
     ]
    }
   ],
   "source": [
    "print( bool('') ) # False tik kai tuscias\n",
    "print( bool(' ') )\n",
    "print( bool('adfghnahwnrejn') )"
   ]
  },
  {
   "cell_type": "code",
   "execution_count": 83,
   "metadata": {},
   "outputs": [
    {
     "name": "stdout",
     "output_type": "stream",
     "text": [
      "False\n",
      "True\n"
     ]
    }
   ],
   "source": [
    "print ( not True )\n",
    "print ( not not True )"
   ]
  },
  {
   "cell_type": "code",
   "execution_count": 85,
   "metadata": {},
   "outputs": [
    {
     "name": "stdout",
     "output_type": "stream",
     "text": [
      "and\n",
      "True\n",
      "False\n",
      "or\n",
      "True\n",
      "True\n",
      "False\n"
     ]
    }
   ],
   "source": [
    "print ('and')\n",
    "print (20 > 10 and 5 > 1)\n",
    "print (20 > 10 and 5 > 10)\n",
    "print ('or')\n",
    "print (20 > 10 or 5 > 1)\n",
    "print (20 > 10 or 5 > 10)\n",
    "print (2 > 10 or 5 > 10)"
   ]
  },
  {
   "cell_type": "code",
   "execution_count": 86,
   "metadata": {},
   "outputs": [
    {
     "name": "stdout",
     "output_type": "stream",
     "text": [
      "True\n",
      "True\n",
      "True\n",
      "True\n",
      "True\n",
      "False\n",
      "False\n",
      "False\n",
      "False\n",
      "False\n"
     ]
    }
   ],
   "source": [
    "print (10 > 5)\n",
    "print ('a' in 'auto')\n",
    "test = bool(1)\n",
    "print(test)\n",
    "print(bool('oo'))\n",
    "print( not False )\n",
    "\n",
    "print (10 < 5)\n",
    "print ('A' in 'auto')\n",
    "test = bool(0)\n",
    "print(test)\n",
    "print(bool(''))\n",
    "print( not True )"
   ]
  },
  {
   "attachments": {},
   "cell_type": "markdown",
   "metadata": {},
   "source": [
    "# List"
   ]
  },
  {
   "cell_type": "code",
   "execution_count": 87,
   "metadata": {},
   "outputs": [],
   "source": [
    "cities = [ 'Vilnius', 'Kaunas', 'Klaipeda' ]"
   ]
  },
  {
   "cell_type": "code",
   "execution_count": 95,
   "metadata": {},
   "outputs": [
    {
     "name": "stdout",
     "output_type": "stream",
     "text": [
      "['Vilnius', 'Kaunas', 'Klaipeda']\n",
      "Vilnius\n",
      "<class 'list'>\n",
      "<class 'str'>\n",
      "Klaipeda\n",
      "['Kaunas', 'Klaipeda']\n",
      "['Vilnius', 'Kaunas']\n"
     ]
    }
   ],
   "source": [
    "print (cities)\n",
    "print (cities[0])\n",
    "print (type(cities) )\n",
    "print (type(cities[0]) )\n",
    "print (cities[-1])\n",
    "print (cities[1:])\n",
    "print (cities[:2])"
   ]
  },
  {
   "cell_type": "code",
   "execution_count": 99,
   "metadata": {},
   "outputs": [
    {
     "name": "stdout",
     "output_type": "stream",
     "text": [
      "<class 'int'>\n",
      "<class 'float'>\n",
      "<class 'str'>\n"
     ]
    }
   ],
   "source": [
    "numbers = [ 15,654,769,238.4274 ,'5' ]\n",
    "print (type( numbers[0] ) )\n",
    "print (type( numbers[-2] ) )\n",
    "print (type( numbers[-1] ) )"
   ]
  },
  {
   "cell_type": "code",
   "execution_count": 145,
   "metadata": {},
   "outputs": [
    {
     "name": "stdout",
     "output_type": "stream",
     "text": [
      "[154, 44, 33]\n",
      "None\n",
      "[154, 44, 33, 51]\n"
     ]
    }
   ],
   "source": [
    "numbers = [ 154,44,33 ]\n",
    "print(numbers)\n",
    "print( numbers.append( 51 ) ) # don't print append function\n",
    "print(numbers)"
   ]
  },
  {
   "cell_type": "code",
   "execution_count": 146,
   "metadata": {},
   "outputs": [
    {
     "name": "stdout",
     "output_type": "stream",
     "text": [
      "[154, 44, 33, 51, 51]\n"
     ]
    }
   ],
   "source": [
    "numbers.append( 51 ) # prideda verte kiekviena karta\n",
    "print(numbers)"
   ]
  },
  {
   "cell_type": "code",
   "execution_count": 147,
   "metadata": {},
   "outputs": [
    {
     "data": {
      "text/plain": [
       "2"
      ]
     },
     "execution_count": 147,
     "metadata": {},
     "output_type": "execute_result"
    }
   ],
   "source": [
    "numbers.count(51)"
   ]
  },
  {
   "cell_type": "code",
   "execution_count": 154,
   "metadata": {},
   "outputs": [
    {
     "name": "stdout",
     "output_type": "stream",
     "text": [
      "append\n",
      "[154, 44, 33, 51]\n",
      "[154, 44, 33, 51, [100, 100]]\n",
      "[100, 100]\n",
      "5\n",
      "extend\n",
      "[154, 44, 33, 51, [100, 100], 100, 100]\n",
      "7\n",
      "count\n",
      "2\n"
     ]
    }
   ],
   "source": [
    "numbers = [ 154,44,33 ]\n",
    "print('append')\n",
    "numbers.append( 51 )\n",
    "print(numbers)\n",
    "numbers.append( [100, 100] )\n",
    "print(numbers)\n",
    "print(numbers[-1])\n",
    "print(len(numbers) )\n",
    "\n",
    "print('extend')\n",
    "numbers.extend( [100, 100] )\n",
    "print(numbers)\n",
    "print(len(numbers) )\n",
    "print('count')\n",
    "print( numbers.count(100) ) # komandos veikia auksciausiame lygmenyje"
   ]
  },
  {
   "cell_type": "code",
   "execution_count": 155,
   "metadata": {},
   "outputs": [
    {
     "data": {
      "text/plain": [
       "5"
      ]
     },
     "execution_count": 155,
     "metadata": {},
     "output_type": "execute_result"
    }
   ],
   "source": [
    "numbers.index(100) # grazina indeksa"
   ]
  },
  {
   "cell_type": "code",
   "execution_count": 158,
   "metadata": {},
   "outputs": [
    {
     "name": "stdout",
     "output_type": "stream",
     "text": [
      "[154, 500, 500, 500, 44, 33, 51, [100, 100], 100, 100]\n"
     ]
    }
   ],
   "source": [
    "numbers.insert(1 , 500)\n",
    "print (numbers)"
   ]
  },
  {
   "cell_type": "code",
   "execution_count": 161,
   "metadata": {},
   "outputs": [
    {
     "name": "stdout",
     "output_type": "stream",
     "text": [
      "[154, 500, 500, 500, 44, 33, 51, [100, 100]]\n",
      "[100, 100]\n",
      "[154, 500, 500, 500, 44, 33, 51]\n"
     ]
    }
   ],
   "source": [
    "print(numbers)\n",
    "print(numbers.pop())\n",
    "print(numbers)"
   ]
  },
  {
   "cell_type": "code",
   "execution_count": 164,
   "metadata": {},
   "outputs": [
    {
     "name": "stdout",
     "output_type": "stream",
     "text": [
      "[154, 500, 500, 44, 33, 51]\n",
      "None\n",
      "[154, 500, 44, 33, 51]\n"
     ]
    }
   ],
   "source": [
    "print(numbers)\n",
    "print(numbers.remove(500) )\n",
    "print(numbers)"
   ]
  },
  {
   "cell_type": "code",
   "execution_count": 166,
   "metadata": {},
   "outputs": [
    {
     "name": "stdout",
     "output_type": "stream",
     "text": [
      "[154, 44, 33, 51]\n"
     ]
    },
    {
     "ename": "ValueError",
     "evalue": "list.remove(x): x not in list",
     "output_type": "error",
     "traceback": [
      "\u001b[1;31m---------------------------------------------------------------------------\u001b[0m",
      "\u001b[1;31mValueError\u001b[0m                                Traceback (most recent call last)",
      "\u001b[1;32mc:\\Users\\Robotux\\Documents\\Python\\20230104VCSDMAVAK\\lesson_2.ipynb Cell 46\u001b[0m in \u001b[0;36m<module>\u001b[1;34m\u001b[0m\n\u001b[0;32m      <a href='vscode-notebook-cell:/c%3A/Users/Robotux/Documents/Python/20230104VCSDMAVAK/lesson_2.ipynb#Y102sZmlsZQ%3D%3D?line=0'>1</a>\u001b[0m \u001b[39mprint\u001b[39m(numbers)\n\u001b[1;32m----> <a href='vscode-notebook-cell:/c%3A/Users/Robotux/Documents/Python/20230104VCSDMAVAK/lesson_2.ipynb#Y102sZmlsZQ%3D%3D?line=1'>2</a>\u001b[0m \u001b[39mprint\u001b[39m(numbers\u001b[39m.\u001b[39;49mremove(\u001b[39m500\u001b[39;49m) )\n\u001b[0;32m      <a href='vscode-notebook-cell:/c%3A/Users/Robotux/Documents/Python/20230104VCSDMAVAK/lesson_2.ipynb#Y102sZmlsZQ%3D%3D?line=2'>3</a>\u001b[0m \u001b[39mprint\u001b[39m(numbers)\n",
      "\u001b[1;31mValueError\u001b[0m: list.remove(x): x not in list"
     ]
    }
   ],
   "source": [
    "print(numbers)\n",
    "print(numbers.remove(500) ) # klaida, jei neegzistuoja\n",
    "print(numbers)"
   ]
  },
  {
   "cell_type": "code",
   "execution_count": 181,
   "metadata": {},
   "outputs": [
    {
     "name": "stdout",
     "output_type": "stream",
     "text": [
      "[654, [[[48, [['65']]], 57]]]\n",
      "2\n",
      "[[[48, [['65']]], 57]]\n",
      "[[48, [['65']]], 57]\n",
      "[48, [['65']]]\n",
      "[['65']]\n",
      "['65']\n",
      "65\n",
      "65\n"
     ]
    }
   ],
   "source": [
    "nested_list = [654, [[[48, [['65']]], 57]]]\n",
    "print (nested_list)\n",
    "print (len(nested_list) )\n",
    "print (nested_list[1])\n",
    "# print (len(nested_list[1] ))\n",
    "print (nested_list[1][0] )\n",
    "# print (len(nested_list[1][0] ))\n",
    "print (nested_list[1][0][0] )\n",
    "print (nested_list[1][0][0][1] )\n",
    "print (nested_list[1][0][0][1][0] )\n",
    "print (nested_list[1][0][0][1][0][0] )\n",
    "\n",
    "# list_1 = nested_list[1]\n",
    "# list_2 = list_1[0]\n",
    "# list_3 = list_2[0]\n",
    "# print(list_3)"
   ]
  },
  {
   "cell_type": "code",
   "execution_count": 182,
   "metadata": {},
   "outputs": [
    {
     "name": "stdout",
     "output_type": "stream",
     "text": [
      "[154, 44, 33, 51]\n"
     ]
    }
   ],
   "source": [
    "print (numbers)"
   ]
  },
  {
   "cell_type": "code",
   "execution_count": 210,
   "metadata": {},
   "outputs": [
    {
     "name": "stdout",
     "output_type": "stream",
     "text": [
      "[154, 44, 33, 51]\n"
     ]
    }
   ],
   "source": [
    "numbers.reverse()\n",
    "print (numbers)"
   ]
  },
  {
   "cell_type": "code",
   "execution_count": 212,
   "metadata": {},
   "outputs": [
    {
     "data": {
      "text/plain": [
       "[51, 33, 44, 154]"
      ]
     },
     "execution_count": 212,
     "metadata": {},
     "output_type": "execute_result"
    }
   ],
   "source": [
    "# numbers[start:end:step]\n",
    "numbers[::-1]"
   ]
  },
  {
   "cell_type": "code",
   "execution_count": 217,
   "metadata": {},
   "outputs": [
    {
     "name": "stdout",
     "output_type": "stream",
     "text": [
      "[33, 44, 51, 154]\n",
      "[154, 51, 44, 33]\n"
     ]
    }
   ],
   "source": [
    "numbers = [51, 33, 44, 154]\n",
    "numbers.sort()\n",
    "print (numbers)\n",
    "numbers.sort(reverse=True)\n",
    "print (numbers)"
   ]
  },
  {
   "cell_type": "code",
   "execution_count": 215,
   "metadata": {},
   "outputs": [
    {
     "name": "stdout",
     "output_type": "stream",
     "text": [
      "[154, 51, 44, 33]\n"
     ]
    }
   ],
   "source": [
    "print (numbers)"
   ]
  },
  {
   "cell_type": "code",
   "execution_count": 220,
   "metadata": {},
   "outputs": [
    {
     "name": "stdout",
     "output_type": "stream",
     "text": [
      "[33, 44, 51, 154]\n",
      "[51, 33, 44, 154]\n",
      "[154, 51, 44, 33]\n",
      "[51, 33, 44, 154]\n"
     ]
    }
   ],
   "source": [
    "numbers = [51, 33, 44, 154]\n",
    "print ( sorted( numbers ) )\n",
    "print (numbers)\n",
    "print ( sorted( numbers, reverse=True ) )\n",
    "print (numbers)"
   ]
  },
  {
   "cell_type": "code",
   "execution_count": 221,
   "metadata": {},
   "outputs": [
    {
     "name": "stdout",
     "output_type": "stream",
     "text": [
      "['Vilnius', 'Kaunas', 'Klaipeda']\n"
     ]
    }
   ],
   "source": [
    "print (cities)"
   ]
  },
  {
   "cell_type": "code",
   "execution_count": 222,
   "metadata": {},
   "outputs": [
    {
     "name": "stdout",
     "output_type": "stream",
     "text": [
      "['Vilnius', 'Kaunas', 'Siauliai']\n"
     ]
    }
   ],
   "source": [
    "cities[2] = 'Siauliai'\n",
    "print(cities)"
   ]
  },
  {
   "cell_type": "code",
   "execution_count": 224,
   "metadata": {},
   "outputs": [
    {
     "name": "stdout",
     "output_type": "stream",
     "text": [
      "True\n",
      "False\n"
     ]
    }
   ],
   "source": [
    "print (\"Vilnius\" in cities)\n",
    "print (\"Klaipeda\" in cities)"
   ]
  },
  {
   "cell_type": "code",
   "execution_count": 226,
   "metadata": {},
   "outputs": [
    {
     "name": "stdout",
     "output_type": "stream",
     "text": [
      "False\n",
      "True\n"
     ]
    }
   ],
   "source": [
    "print( bool( [] ) ) # False tik kai tuščias\n",
    "print( bool( [0] ) )"
   ]
  },
  {
   "attachments": {},
   "cell_type": "markdown",
   "metadata": {},
   "source": [
    "## operators with list  "
   ]
  },
  {
   "cell_type": "code",
   "execution_count": 228,
   "metadata": {},
   "outputs": [
    {
     "name": "stdout",
     "output_type": "stream",
     "text": [
      "[1, 2, 3, 'a', 'b', 'c']\n"
     ]
    }
   ],
   "source": [
    "combined = [1,2,3] + ['a', 'b', 'c']\n",
    "print (combined)"
   ]
  },
  {
   "cell_type": "code",
   "execution_count": 229,
   "metadata": {},
   "outputs": [
    {
     "ename": "TypeError",
     "evalue": "unsupported operand type(s) for -: 'list' and 'list'",
     "output_type": "error",
     "traceback": [
      "\u001b[1;31m---------------------------------------------------------------------------\u001b[0m",
      "\u001b[1;31mTypeError\u001b[0m                                 Traceback (most recent call last)",
      "\u001b[1;32mc:\\Users\\Robotux\\Documents\\Python\\20230104VCSDMAVAK\\lesson_2.ipynb Cell 60\u001b[0m in \u001b[0;36m<module>\u001b[1;34m\u001b[0m\n\u001b[1;32m----> <a href='vscode-notebook-cell:/c%3A/Users/Robotux/Documents/Python/20230104VCSDMAVAK/lesson_2.ipynb#Y122sZmlsZQ%3D%3D?line=0'>1</a>\u001b[0m combined \u001b[39m=\u001b[39m [\u001b[39m1\u001b[39;49m,\u001b[39m2\u001b[39;49m,\u001b[39m3\u001b[39;49m] \u001b[39m-\u001b[39;49m [\u001b[39m'\u001b[39;49m\u001b[39ma\u001b[39;49m\u001b[39m'\u001b[39;49m, \u001b[39m'\u001b[39;49m\u001b[39mb\u001b[39;49m\u001b[39m'\u001b[39;49m, \u001b[39m'\u001b[39;49m\u001b[39mc\u001b[39;49m\u001b[39m'\u001b[39;49m]\n",
      "\u001b[1;31mTypeError\u001b[0m: unsupported operand type(s) for -: 'list' and 'list'"
     ]
    }
   ],
   "source": [
    "combined = [1,2,3] - ['a', 'b', 'c'] # klaida"
   ]
  },
  {
   "cell_type": "code",
   "execution_count": 230,
   "metadata": {},
   "outputs": [
    {
     "name": "stdout",
     "output_type": "stream",
     "text": [
      "[1, 2, 3, 'a', 'b', 'c', 1, 2, 3, 'a', 'b', 'c', 1, 2, 3, 'a', 'b', 'c', 1, 2, 3, 'a', 'b', 'c', 1, 2, 3, 'a', 'b', 'c', 1, 2, 3, 'a', 'b', 'c', 1, 2, 3, 'a', 'b', 'c', 1, 2, 3, 'a', 'b', 'c', 1, 2, 3, 'a', 'b', 'c', 1, 2, 3, 'a', 'b', 'c']\n"
     ]
    }
   ],
   "source": [
    "print ( combined * 10 )"
   ]
  },
  {
   "cell_type": "code",
   "execution_count": 232,
   "metadata": {},
   "outputs": [
    {
     "name": "stdout",
     "output_type": "stream",
     "text": [
      "<class 'list'>\n",
      "<class 'tuple'>\n"
     ]
    }
   ],
   "source": [
    "print( type( [] ) )\n",
    "print( type( () ) )"
   ]
  },
  {
   "cell_type": "code",
   "execution_count": null,
   "metadata": {},
   "outputs": [],
   "source": []
  }
 ],
 "metadata": {
  "kernelspec": {
   "display_name": "Python 3",
   "language": "python",
   "name": "python3"
  },
  "language_info": {
   "codemirror_mode": {
    "name": "ipython",
    "version": 3
   },
   "file_extension": ".py",
   "mimetype": "text/x-python",
   "name": "python",
   "nbconvert_exporter": "python",
   "pygments_lexer": "ipython3",
   "version": "3.10.2"
  },
  "orig_nbformat": 4,
  "vscode": {
   "interpreter": {
    "hash": "db50a459ab6695ace3368e8957af3456c8c93e92d9fe6c38987133d01669da40"
   }
  }
 },
 "nbformat": 4,
 "nbformat_minor": 2
}
