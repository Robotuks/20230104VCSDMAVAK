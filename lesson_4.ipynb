{
 "cells": [
  {
   "attachments": {},
   "cell_type": "markdown",
   "metadata": {},
   "source": [
    "# Namų darbai 1"
   ]
  },
  {
   "attachments": {},
   "cell_type": "markdown",
   "metadata": {},
   "source": [
    "1\\. Deklaruoti list tipo duomenį, gauti jo ilgį, pridėti naują elementą"
   ]
  },
  {
   "cell_type": "code",
   "execution_count": 4,
   "metadata": {},
   "outputs": [
    {
     "name": "stdout",
     "output_type": "stream",
     "text": [
      "3\n",
      "[1, 5, 1, 10]\n",
      "[1, 5, 1, 10, 100]\n"
     ]
    }
   ],
   "source": [
    "list_1 = [1,5,1]\n",
    "\n",
    "print( len( list_1 ) )\n",
    "\n",
    "list_1.append( 10 )\n",
    "print(list_1)\n",
    "list_1 = list_1 + [100]\n",
    "print (list_1)\n"
   ]
  },
  {
   "attachments": {},
   "cell_type": "markdown",
   "metadata": {},
   "source": [
    "2\\. Patikrinti ar elementas yra jūsų sąraše. Naudoti raktažodį in"
   ]
  },
  {
   "cell_type": "code",
   "execution_count": 6,
   "metadata": {},
   "outputs": [
    {
     "name": "stdout",
     "output_type": "stream",
     "text": [
      "True\n",
      "False\n"
     ]
    }
   ],
   "source": [
    "print (1 in list_1)\n",
    "print (50 in list_1)"
   ]
  },
  {
   "cell_type": "code",
   "execution_count": 10,
   "metadata": {},
   "outputs": [
    {
     "data": {
      "text/plain": [
       "[1, 5, 1, 10, 100]"
      ]
     },
     "execution_count": 10,
     "metadata": {},
     "output_type": "execute_result"
    }
   ],
   "source": [
    "1 in list_1\n",
    "list_1\n"
   ]
  },
  {
   "attachments": {},
   "cell_type": "markdown",
   "metadata": {},
   "source": [
    "3\\. Sudėti du list’us, išimti paskutinį narį iš sudėto listo, išrikiuoti list’ą, suskaičiuoti kiek yra kokios nors reikšmės įvesčių list’e"
   ]
  },
  {
   "cell_type": "code",
   "execution_count": 14,
   "metadata": {},
   "outputs": [
    {
     "name": "stdout",
     "output_type": "stream",
     "text": [
      "[1, 5, 1, 10, 50, 12]\n",
      "[1, 5, 1, 10, 50]\n",
      "[1, 1, 5, 10, 50]\n",
      "2\n"
     ]
    }
   ],
   "source": [
    "list_1 = [1,5,1]\n",
    "list_2 = [10,50,12]\n",
    "\n",
    "combined = list_1 + list_2\n",
    "print(combined)\n",
    "combined.pop()\n",
    "print(combined)\n",
    "combined.sort()\n",
    "print(combined)\n",
    "print(combined.count(1) )"
   ]
  },
  {
   "attachments": {},
   "cell_type": "markdown",
   "metadata": {},
   "source": [
    "# Namų darbai 2"
   ]
  },
  {
   "attachments": {},
   "cell_type": "markdown",
   "metadata": {},
   "source": [
    "1\\. Gaukite visas įmanomas kombinacijas iš pateiktų sąrašų tik tada, jei diena yra arba pirmadienis arba trečiadienis, o valandos yra nuo 12 iki 17, įrašykite jas į list’ą"
   ]
  },
  {
   "cell_type": "code",
   "execution_count": 15,
   "metadata": {},
   "outputs": [
    {
     "name": "stdout",
     "output_type": "stream",
     "text": [
      "[('Pirmadienis', 12), ('Pirmadienis', 13), ('Pirmadienis', 14), ('Pirmadienis', 15), ('Pirmadienis', 16), ('Pirmadienis', 17), ('Treciadienis', 12), ('Treciadienis', 13), ('Treciadienis', 14), ('Treciadienis', 15), ('Treciadienis', 16), ('Treciadienis', 17)]\n"
     ]
    }
   ],
   "source": [
    "dienos = ('Pirmadienis', 'Antradienis', 'Treciadienis','Ketvirtadienis', 'Penktadienis', 'Sestadienis' , 'Sekmadienis')\n",
    "valandos = [10, 11, 12, 13, 14, 15, 16, 17, 18, 19]\n",
    "\n",
    "kombinacijos = []\n",
    "\n",
    "for diena in dienos:\n",
    "    if diena == 'Pirmadienis' or diena == 'Treciadienis':\n",
    "        for valanda in valandos:\n",
    "            if valanda in range(12,18):\n",
    "                kombinacijos.append( (diena, valanda) )\n",
    "\n",
    "print(kombinacijos)\n"
   ]
  },
  {
   "cell_type": "code",
   "execution_count": 16,
   "metadata": {},
   "outputs": [
    {
     "name": "stdout",
     "output_type": "stream",
     "text": [
      "[('Pirmadienis', 12), ('Pirmadienis', 13), ('Pirmadienis', 14), ('Pirmadienis', 15), ('Pirmadienis', 16), ('Pirmadienis', 17), ('Treciadienis', 12), ('Treciadienis', 13), ('Treciadienis', 14), ('Treciadienis', 15), ('Treciadienis', 16), ('Treciadienis', 17)]\n"
     ]
    }
   ],
   "source": [
    "dienos = ('Pirmadienis', 'Antradienis', 'Treciadienis','Ketvirtadienis', 'Penktadienis', 'Sestadienis' , 'Sekmadienis')\n",
    "valandos = [10, 11, 12, 13, 14, 15, 16, 17, 18, 19]\n",
    "\n",
    "tinkamos_dienos = [ 'Pirmadienis', 'Treciadienis', '' ]\n",
    "tinkamos_valandos = range(12,18) # [ 12, 13, 14, 15, 16, 17 ]\n",
    "\n",
    "kombinacijos = []\n",
    "\n",
    "for diena in dienos:\n",
    "    if diena in tinkamos_dienos:\n",
    "        for valanda in valandos:\n",
    "            if valanda in tinkamos_valandos:\n",
    "                kombinacijos.append( (diena, valanda) )\n",
    "\n",
    "print(kombinacijos)"
   ]
  },
  {
   "attachments": {},
   "cell_type": "markdown",
   "metadata": {},
   "source": [
    "2\\. Iš pirmų 100 skaičių, jeigu skaičius dalinasi iš 2 be liekanos, atspausdinkite ‘Fizz’, jeigu skaičius dalinasi iš 3 be liekanos atspausdinkite ‘Buzz’, jei skaičius dalinasi iš 2 ir 3 be liekanos, atspausdinkite ‘FizzBuzz’"
   ]
  },
  {
   "cell_type": "code",
   "execution_count": null,
   "metadata": {},
   "outputs": [],
   "source": [
    "for i in range(1,101):\n",
    "    if i % 2 == 0:\n",
    "        print (f' {i} - Fizz')\n",
    "    elif i % 3 == 0:\n",
    "        print (f' {i} - Buzz')\n",
    "    elif i % 2 == 0 and i % 3 == 0:\n",
    "        print (f' {i} - FizzBuzz')\n",
    "    else:\n",
    "        print (f' {i} -')"
   ]
  },
  {
   "cell_type": "code",
   "execution_count": null,
   "metadata": {},
   "outputs": [],
   "source": [
    "for i in range(1,101):\n",
    "    if i % 2 == 0 and i % 3 == 0:\n",
    "        print (f' {i} - FizzBuzz')\n",
    "    elif i % 2 == 0:\n",
    "        print (f' {i} - Fizz')\n",
    "    elif i % 3 == 0:\n",
    "        print (f' {i} - Buzz')\n",
    "    else:\n",
    "        print (f' {i} -')"
   ]
  },
  {
   "cell_type": "code",
   "execution_count": 19,
   "metadata": {},
   "outputs": [
    {
     "name": "stdout",
     "output_type": "stream",
     "text": [
      "1 - \n",
      "2 - Fizz\n",
      "3 - Buzz\n",
      "4 - Fizz\n",
      "5 - \n",
      "6 - FizzBuzz\n",
      "7 - \n",
      "8 - Fizz\n",
      "9 - Buzz\n",
      "10 - Fizz\n",
      "11 - \n",
      "12 - FizzBuzz\n",
      "13 - \n",
      "14 - Fizz\n",
      "15 - Buzz\n",
      "16 - Fizz\n",
      "17 - \n",
      "18 - FizzBuzz\n",
      "19 - \n",
      "20 - Fizz\n",
      "21 - Buzz\n",
      "22 - Fizz\n",
      "23 - \n",
      "24 - FizzBuzz\n",
      "25 - \n",
      "26 - Fizz\n",
      "27 - Buzz\n",
      "28 - Fizz\n",
      "29 - \n",
      "30 - FizzBuzz\n",
      "31 - \n",
      "32 - Fizz\n",
      "33 - Buzz\n",
      "34 - Fizz\n",
      "35 - \n",
      "36 - FizzBuzz\n",
      "37 - \n",
      "38 - Fizz\n",
      "39 - Buzz\n",
      "40 - Fizz\n",
      "41 - \n",
      "42 - FizzBuzz\n",
      "43 - \n",
      "44 - Fizz\n",
      "45 - Buzz\n",
      "46 - Fizz\n",
      "47 - \n",
      "48 - FizzBuzz\n",
      "49 - \n",
      "50 - Fizz\n",
      "51 - Buzz\n",
      "52 - Fizz\n",
      "53 - \n",
      "54 - FizzBuzz\n",
      "55 - \n",
      "56 - Fizz\n",
      "57 - Buzz\n",
      "58 - Fizz\n",
      "59 - \n",
      "60 - FizzBuzz\n",
      "61 - \n",
      "62 - Fizz\n",
      "63 - Buzz\n",
      "64 - Fizz\n",
      "65 - \n",
      "66 - FizzBuzz\n",
      "67 - \n",
      "68 - Fizz\n",
      "69 - Buzz\n",
      "70 - Fizz\n",
      "71 - \n",
      "72 - FizzBuzz\n",
      "73 - \n",
      "74 - Fizz\n",
      "75 - Buzz\n",
      "76 - Fizz\n",
      "77 - \n",
      "78 - FizzBuzz\n",
      "79 - \n",
      "80 - Fizz\n",
      "81 - Buzz\n",
      "82 - Fizz\n",
      "83 - \n",
      "84 - FizzBuzz\n",
      "85 - \n",
      "86 - Fizz\n",
      "87 - Buzz\n",
      "88 - Fizz\n",
      "89 - \n",
      "90 - FizzBuzz\n",
      "91 - \n",
      "92 - Fizz\n",
      "93 - Buzz\n",
      "94 - Fizz\n",
      "95 - \n",
      "96 - FizzBuzz\n",
      "97 - \n",
      "98 - Fizz\n",
      "99 - Buzz\n",
      "100 - Fizz\n"
     ]
    }
   ],
   "source": [
    "for i in range(1,101):\n",
    "    message = f'{i} - '\n",
    "    if i % 2 == 0:\n",
    "        message += 'Fizz'\n",
    "    if i % 3 == 0:\n",
    "        message += 'Buzz'\n",
    "    print(message)"
   ]
  },
  {
   "attachments": {},
   "cell_type": "markdown",
   "metadata": {},
   "source": [
    "3\\. Leiskite vartotojui pasirinkti skaičių, jeigu įvestas skaičius yra daugiau arba lygus 10, atspausdinkite visus skaičius nuo 1 iki pateikto skaičiaus, kurie dalinasi iš 5 su liekana"
   ]
  },
  {
   "cell_type": "code",
   "execution_count": 22,
   "metadata": {},
   "outputs": [
    {
     "name": "stdout",
     "output_type": "stream",
     "text": [
      "1\n",
      "2\n",
      "3\n",
      "4\n",
      "6\n",
      "7\n",
      "8\n",
      "9\n",
      "11\n",
      "12\n",
      "13\n",
      "14\n"
     ]
    }
   ],
   "source": [
    "pasirinktas_skaicius = int( input('iveskite skaiciu') )\n",
    "\n",
    "if pasirinktas_skaicius >= 10:\n",
    "    for i in range(1, pasirinktas_skaicius + 1):\n",
    "        if i % 5 != 0:\n",
    "            print(i)\n",
    "else: \n",
    "    print (f'skaicius {pasirinktas_skaicius} mazesnis uz 10')"
   ]
  },
  {
   "attachments": {},
   "cell_type": "markdown",
   "metadata": {},
   "source": [
    "4\\. Koks yra sąrašo ilgis sudaryto iš pateiktų sąrašų kombinacijų, jeigu norime rasti visas įmanomas reikšmes? Išrikiuokite sąrašą nuo didžiausios iki mažiausios reikšmės (teks atlikti papildomų veiksmų tam atlikti teisingai, naudoti viena iš 3 narių rikiavimui)"
   ]
  },
  {
   "cell_type": "code",
   "execution_count": 26,
   "metadata": {},
   "outputs": [
    {
     "data": {
      "text/plain": [
       "[('1', 'labas', 500),\n",
       " ('1', 'vakaras', 500),\n",
       " ('1', 'kokia grazi diena', 500),\n",
       " ('1', 'siandien uz lango', 500),\n",
       " ('1', '10 laipsniu silumos', 500),\n",
       " ('2', 'labas', 500),\n",
       " ('2', 'vakaras', 500),\n",
       " ('2', 'kokia grazi diena', 500),\n",
       " ('2', 'siandien uz lango', 500),\n",
       " ('2', '10 laipsniu silumos', 500),\n",
       " ('3', 'labas', 500),\n",
       " ('3', 'vakaras', 500),\n",
       " ('3', 'kokia grazi diena', 500),\n",
       " ('3', 'siandien uz lango', 500),\n",
       " ('3', '10 laipsniu silumos', 500),\n",
       " ('4', 'labas', 500),\n",
       " ('4', 'vakaras', 500),\n",
       " ('4', 'kokia grazi diena', 500),\n",
       " ('4', 'siandien uz lango', 500),\n",
       " ('4', '10 laipsniu silumos', 500),\n",
       " ('5', 'labas', 500),\n",
       " ('5', 'vakaras', 500),\n",
       " ('5', 'kokia grazi diena', 500),\n",
       " ('5', 'siandien uz lango', 500),\n",
       " ('5', '10 laipsniu silumos', 500),\n",
       " ('1', 'labas', 200),\n",
       " ('1', 'vakaras', 200),\n",
       " ('1', 'kokia grazi diena', 200),\n",
       " ('1', 'siandien uz lango', 200),\n",
       " ('1', '10 laipsniu silumos', 200),\n",
       " ('2', 'labas', 200),\n",
       " ('2', 'vakaras', 200),\n",
       " ('2', 'kokia grazi diena', 200),\n",
       " ('2', 'siandien uz lango', 200),\n",
       " ('2', '10 laipsniu silumos', 200),\n",
       " ('3', 'labas', 200),\n",
       " ('3', 'vakaras', 200),\n",
       " ('3', 'kokia grazi diena', 200),\n",
       " ('3', 'siandien uz lango', 200),\n",
       " ('3', '10 laipsniu silumos', 200),\n",
       " ('4', 'labas', 200),\n",
       " ('4', 'vakaras', 200),\n",
       " ('4', 'kokia grazi diena', 200),\n",
       " ('4', 'siandien uz lango', 200),\n",
       " ('4', '10 laipsniu silumos', 200),\n",
       " ('5', 'labas', 200),\n",
       " ('5', 'vakaras', 200),\n",
       " ('5', 'kokia grazi diena', 200),\n",
       " ('5', 'siandien uz lango', 200),\n",
       " ('5', '10 laipsniu silumos', 200),\n",
       " ('1', 'labas', 100),\n",
       " ('1', 'vakaras', 100),\n",
       " ('1', 'kokia grazi diena', 100),\n",
       " ('1', 'siandien uz lango', 100),\n",
       " ('1', '10 laipsniu silumos', 100),\n",
       " ('2', 'labas', 100),\n",
       " ('2', 'vakaras', 100),\n",
       " ('2', 'kokia grazi diena', 100),\n",
       " ('2', 'siandien uz lango', 100),\n",
       " ('2', '10 laipsniu silumos', 100),\n",
       " ('3', 'labas', 100),\n",
       " ('3', 'vakaras', 100),\n",
       " ('3', 'kokia grazi diena', 100),\n",
       " ('3', 'siandien uz lango', 100),\n",
       " ('3', '10 laipsniu silumos', 100),\n",
       " ('4', 'labas', 100),\n",
       " ('4', 'vakaras', 100),\n",
       " ('4', 'kokia grazi diena', 100),\n",
       " ('4', 'siandien uz lango', 100),\n",
       " ('4', '10 laipsniu silumos', 100),\n",
       " ('5', 'labas', 100),\n",
       " ('5', 'vakaras', 100),\n",
       " ('5', 'kokia grazi diena', 100),\n",
       " ('5', 'siandien uz lango', 100),\n",
       " ('5', '10 laipsniu silumos', 100),\n",
       " ('1', 'labas', 40),\n",
       " ('1', 'vakaras', 40),\n",
       " ('1', 'kokia grazi diena', 40),\n",
       " ('1', 'siandien uz lango', 40),\n",
       " ('1', '10 laipsniu silumos', 40),\n",
       " ('2', 'labas', 40),\n",
       " ('2', 'vakaras', 40),\n",
       " ('2', 'kokia grazi diena', 40),\n",
       " ('2', 'siandien uz lango', 40),\n",
       " ('2', '10 laipsniu silumos', 40),\n",
       " ('3', 'labas', 40),\n",
       " ('3', 'vakaras', 40),\n",
       " ('3', 'kokia grazi diena', 40),\n",
       " ('3', 'siandien uz lango', 40),\n",
       " ('3', '10 laipsniu silumos', 40),\n",
       " ('4', 'labas', 40),\n",
       " ('4', 'vakaras', 40),\n",
       " ('4', 'kokia grazi diena', 40),\n",
       " ('4', 'siandien uz lango', 40),\n",
       " ('4', '10 laipsniu silumos', 40),\n",
       " ('5', 'labas', 40),\n",
       " ('5', 'vakaras', 40),\n",
       " ('5', 'kokia grazi diena', 40),\n",
       " ('5', 'siandien uz lango', 40),\n",
       " ('5', '10 laipsniu silumos', 40),\n",
       " ('1', 'labas', 10),\n",
       " ('1', 'vakaras', 10),\n",
       " ('1', 'kokia grazi diena', 10),\n",
       " ('1', 'siandien uz lango', 10),\n",
       " ('1', '10 laipsniu silumos', 10),\n",
       " ('2', 'labas', 10),\n",
       " ('2', 'vakaras', 10),\n",
       " ('2', 'kokia grazi diena', 10),\n",
       " ('2', 'siandien uz lango', 10),\n",
       " ('2', '10 laipsniu silumos', 10),\n",
       " ('3', 'labas', 10),\n",
       " ('3', 'vakaras', 10),\n",
       " ('3', 'kokia grazi diena', 10),\n",
       " ('3', 'siandien uz lango', 10),\n",
       " ('3', '10 laipsniu silumos', 10),\n",
       " ('4', 'labas', 10),\n",
       " ('4', 'vakaras', 10),\n",
       " ('4', 'kokia grazi diena', 10),\n",
       " ('4', 'siandien uz lango', 10),\n",
       " ('4', '10 laipsniu silumos', 10),\n",
       " ('5', 'labas', 10),\n",
       " ('5', 'vakaras', 10),\n",
       " ('5', 'kokia grazi diena', 10),\n",
       " ('5', 'siandien uz lango', 10),\n",
       " ('5', '10 laipsniu silumos', 10)]"
      ]
     },
     "execution_count": 26,
     "metadata": {},
     "output_type": "execute_result"
    }
   ],
   "source": [
    "a = ['1','2','3','4','5']\n",
    "b = ['labas', 'vakaras', 'kokia grazi diena', 'siandien uz lango', '10 laipsniu silumos']\n",
    "c = ['100', '200', 40, 10, 500]\n",
    "\n",
    "c[0] = int(c[0])\n",
    "c[1] = int(c[1])\n",
    "\n",
    "kombinacijos = []\n",
    "for pirmas in a:\n",
    "    for antras in b:\n",
    "        for trecias in c:\n",
    "            kombinacijos.append( (pirmas, antras, trecias) )\n",
    "# print(kombinacijos)\n",
    "\n",
    "sorted(kombinacijos, key=lambda x: x[2], reverse=True)\n"
   ]
  },
  {
   "attachments": {},
   "cell_type": "markdown",
   "metadata": {},
   "source": [
    "# List comprehension"
   ]
  },
  {
   "cell_type": "code",
   "execution_count": 27,
   "metadata": {},
   "outputs": [
    {
     "name": "stdout",
     "output_type": "stream",
     "text": [
      "[3, 6, 9, 12, 15, 18]\n"
     ]
    }
   ],
   "source": [
    "numbers = list(range(1,21) )\n",
    "dividible_by_3 = []\n",
    "for number in numbers:\n",
    "    if number % 3 == 0:\n",
    "        dividible_by_3.append(number)\n",
    "        # print(number)\n",
    "print (dividible_by_3)"
   ]
  },
  {
   "cell_type": "code",
   "execution_count": 28,
   "metadata": {},
   "outputs": [
    {
     "name": "stdout",
     "output_type": "stream",
     "text": [
      "[3, 6, 9, 12, 15, 18]\n"
     ]
    }
   ],
   "source": [
    "dividible_by_3 = [ number for number in numbers if number % 3 == 0 ]\n",
    "print (dividible_by_3)"
   ]
  },
  {
   "cell_type": "code",
   "execution_count": 30,
   "metadata": {},
   "outputs": [
    {
     "name": "stdout",
     "output_type": "stream",
     "text": [
      "[40, 80, 120, 160, 200]\n"
     ]
    }
   ],
   "source": [
    "dividible_by_3 = [ number * 10 for number in numbers if number % 4 == 0 ]\n",
    "print (dividible_by_3)"
   ]
  },
  {
   "cell_type": "code",
   "execution_count": 32,
   "metadata": {},
   "outputs": [
    {
     "name": "stdout",
     "output_type": "stream",
     "text": [
      "['1 nesidalina is 3', '2 nesidalina is 3', 3, '4 nesidalina is 3', '5 nesidalina is 3', 6, '7 nesidalina is 3', '8 nesidalina is 3', 9, '10 nesidalina is 3', '11 nesidalina is 3', 12, '13 nesidalina is 3', '14 nesidalina is 3', 15, '16 nesidalina is 3', '17 nesidalina is 3', 18, '19 nesidalina is 3', '20 nesidalina is 3']\n"
     ]
    }
   ],
   "source": [
    "dividible_by_3 = [ number if number % 3 ==0 else f'{number} nesidalina is 3' for number in range(1,21) ]\n",
    "print(dividible_by_3)"
   ]
  },
  {
   "cell_type": "code",
   "execution_count": 33,
   "metadata": {},
   "outputs": [
    {
     "name": "stdout",
     "output_type": "stream",
     "text": [
      "[2, 4, 6, 8, 10, 12, 14, 16, 18, 20, 22, 24, 26, 28, 30, 32, 34, 36, 38, 40]\n"
     ]
    }
   ],
   "source": [
    "doubled = [ number * 2 for number in numbers]\n",
    "print (doubled)"
   ]
  },
  {
   "attachments": {},
   "cell_type": "markdown",
   "metadata": {},
   "source": [
    "# None a.k.a null, nill, NaN - Not a Number"
   ]
  },
  {
   "cell_type": "code",
   "execution_count": 34,
   "metadata": {},
   "outputs": [
    {
     "name": "stdout",
     "output_type": "stream",
     "text": [
      "None\n",
      "<class 'NoneType'>\n"
     ]
    }
   ],
   "source": [
    "niekas = None\n",
    "print (niekas)\n",
    "print(type(niekas))"
   ]
  },
  {
   "cell_type": "code",
   "execution_count": 37,
   "metadata": {},
   "outputs": [],
   "source": [
    "import random\n",
    "\n",
    "vardas = ''\n",
    "\n",
    "if random.random() > 0.5:\n",
    "    vardas = input('Iveskite vardą:')\n",
    "\n",
    "if vardas != '':\n",
    "    print(f'Sveikas {vardas}!')"
   ]
  },
  {
   "cell_type": "code",
   "execution_count": 42,
   "metadata": {},
   "outputs": [
    {
     "name": "stdout",
     "output_type": "stream",
     "text": [
      "Sveikas Darius!\n"
     ]
    }
   ],
   "source": [
    "import random\n",
    "\n",
    "vardas = None\n",
    "\n",
    "if random.random() > 0.5:\n",
    "    vardas = input('Iveskite vardą:')\n",
    "\n",
    "if vardas != None and vardas != '':\n",
    "    print(f'Sveikas {vardas}!')\n",
    "elif vardas != None and vardas == '':\n",
    "    print(f'Nepavyko nuskaityti jusu vardo. Bandykite dar karta')\n",
    "else:\n",
    "    print('Jus nenurodete savo vardo')"
   ]
  },
  {
   "cell_type": "code",
   "execution_count": 45,
   "metadata": {},
   "outputs": [
    {
     "name": "stdout",
     "output_type": "stream",
     "text": [
      "None\n",
      "[1, 100]\n",
      "1\n"
     ]
    }
   ],
   "source": [
    "list_1 = [1]\n",
    "print( list_1.append(100) )\n",
    "print( list_1 )\n",
    "print( list_1.count(1) )"
   ]
  },
  {
   "attachments": {},
   "cell_type": "markdown",
   "metadata": {},
   "source": [
    "# Dictionary"
   ]
  },
  {
   "cell_type": "code",
   "execution_count": 46,
   "metadata": {},
   "outputs": [
    {
     "name": "stdout",
     "output_type": "stream",
     "text": [
      "{'vardas': 'Darius', 'pavarde': 'Grigaliunas', 'amzius': 27}\n"
     ]
    }
   ],
   "source": [
    "me = {\n",
    "    'vardas': 'Darius',\n",
    "    'pavarde': 'Grigaliunas',\n",
    "    'amzius': 27\n",
    "}\n",
    "print(me)"
   ]
  },
  {
   "cell_type": "code",
   "execution_count": 47,
   "metadata": {},
   "outputs": [
    {
     "ename": "KeyError",
     "evalue": "0",
     "output_type": "error",
     "traceback": [
      "\u001b[1;31m---------------------------------------------------------------------------\u001b[0m",
      "\u001b[1;31mKeyError\u001b[0m                                  Traceback (most recent call last)",
      "\u001b[1;32mc:\\Users\\Robotux\\Documents\\Python\\20230104VCSDMAVAK\\lesson_4.ipynb Cell 34\u001b[0m in \u001b[0;36m<module>\u001b[1;34m\u001b[0m\n\u001b[1;32m----> <a href='vscode-notebook-cell:/c%3A/Users/Robotux/Documents/Python/20230104VCSDMAVAK/lesson_4.ipynb#X52sZmlsZQ%3D%3D?line=0'>1</a>\u001b[0m me[\u001b[39m0\u001b[39;49m]\n",
      "\u001b[1;31mKeyError\u001b[0m: 0"
     ]
    }
   ],
   "source": [
    "me[0]"
   ]
  },
  {
   "cell_type": "code",
   "execution_count": 55,
   "metadata": {},
   "outputs": [
    {
     "ename": "KeyError",
     "evalue": "'neegzistuojantis_raktas'",
     "output_type": "error",
     "traceback": [
      "\u001b[1;31m---------------------------------------------------------------------------\u001b[0m",
      "\u001b[1;31mKeyError\u001b[0m                                  Traceback (most recent call last)",
      "\u001b[1;32mc:\\Users\\Robotux\\Documents\\Python\\20230104VCSDMAVAK\\lesson_4.ipynb Cell 35\u001b[0m in \u001b[0;36m<module>\u001b[1;34m\u001b[0m\n\u001b[1;32m----> <a href='vscode-notebook-cell:/c%3A/Users/Robotux/Documents/Python/20230104VCSDMAVAK/lesson_4.ipynb#X60sZmlsZQ%3D%3D?line=0'>1</a>\u001b[0m me[\u001b[39m'\u001b[39;49m\u001b[39mneegzistuojantis_raktas\u001b[39;49m\u001b[39m'\u001b[39;49m]\n",
      "\u001b[1;31mKeyError\u001b[0m: 'neegzistuojantis_raktas'"
     ]
    }
   ],
   "source": [
    "me['neegzistuojantis_raktas']"
   ]
  },
  {
   "cell_type": "code",
   "execution_count": 50,
   "metadata": {},
   "outputs": [
    {
     "name": "stdout",
     "output_type": "stream",
     "text": [
      "Darius\n",
      "Grigaliunas\n",
      "27\n"
     ]
    }
   ],
   "source": [
    "print(me[ 'vardas' ])\n",
    "print(me[ 'pavarde' ])\n",
    "print(me[ 'amzius' ])"
   ]
  },
  {
   "cell_type": "code",
   "execution_count": 51,
   "metadata": {},
   "outputs": [
    {
     "name": "stdout",
     "output_type": "stream",
     "text": [
      "{'vardas': 'Darius', 'pavarde': 'Grigaliunas', 'amzius': 27, 'miestas': 'Vilnius'}\n"
     ]
    }
   ],
   "source": [
    "me[ 'miestas' ] = 'Vilnius'\n",
    "print( me )"
   ]
  },
  {
   "cell_type": "code",
   "execution_count": 52,
   "metadata": {},
   "outputs": [
    {
     "name": "stdout",
     "output_type": "stream",
     "text": [
      "{'vardas': 'Darius', 'pavarde': 'Grigaliunas', 'amzius': 27, 'miestas': 'Vilnius', 'hobiai': ['tenisas', 'dviraciai']}\n"
     ]
    }
   ],
   "source": [
    "me[ 'hobiai' ] = ['tenisas', 'dviraciai']\n",
    "print( me )"
   ]
  },
  {
   "cell_type": "code",
   "execution_count": 54,
   "metadata": {},
   "outputs": [
    {
     "name": "stdout",
     "output_type": "stream",
     "text": [
      "tiesa\n",
      "netiesa\n",
      "none verte\n"
     ]
    }
   ],
   "source": [
    "someone = {\n",
    "    True: 'tiesa',\n",
    "    False: 'netiesa',\n",
    "    None: 'none verte'\n",
    "}\n",
    "print ( someone[True] )\n",
    "print ( someone[False] )\n",
    "print ( someone[None] )"
   ]
  },
  {
   "cell_type": "code",
   "execution_count": 60,
   "metadata": {},
   "outputs": [
    {
     "name": "stdout",
     "output_type": "stream",
     "text": [
      "[{'vardas': 'Jonas', 'amzius': 35}, {'vardas': 'Petras', 'amzius': 50}, {'vardas': 'Mantas', 'amzius': 40}]\n",
      "{'vardas': 'Jonas', 'amzius': 35}\n",
      "Jonas\n",
      "for loop\n",
      "Jonas\n",
      "Petras\n",
      "Mantas\n"
     ]
    }
   ],
   "source": [
    "zmones = [\n",
    "    {'vardas': 'Jonas', 'amzius': 35},\n",
    "    {'vardas': 'Petras', 'amzius': 50},\n",
    "    {'vardas': 'Mantas', 'amzius': 40}\n",
    "]\n",
    "print(zmones)\n",
    "print( zmones[0] )\n",
    "print( zmones[0]['vardas'] )\n",
    "\n",
    "print('for loop')\n",
    "for zmogus in zmones:\n",
    "    print( zmogus['vardas'] )\n"
   ]
  },
  {
   "cell_type": "code",
   "execution_count": 61,
   "metadata": {},
   "outputs": [
    {
     "name": "stdout",
     "output_type": "stream",
     "text": [
      "{'vardas': 'Darius', 'pavarde': 'Grigaliunas', 'amzius': 27, 'miestas': 'Vilnius', 'hobiai': ['tenisas', 'dviraciai']}\n",
      "5\n"
     ]
    }
   ],
   "source": [
    "print(me)\n",
    "print( len(me) )"
   ]
  },
  {
   "cell_type": "code",
   "execution_count": 65,
   "metadata": {},
   "outputs": [
    {
     "name": "stdout",
     "output_type": "stream",
     "text": [
      "{'vardas': 'Darius', 'pavarde': 'Grigaliunas', 'amzius': 27, 'miestas': 'Vilnius', 'hobiai': ['tenisas', 'dviraciai']}\n",
      "27\n",
      "{'vardas': 'Darius', 'pavarde': 'Grigaliunas', 'miestas': 'Vilnius', 'hobiai': ['tenisas', 'dviraciai']}\n",
      "{'vardas': 'Darius', 'pavarde': 'Grigaliunas', 'hobiai': ['tenisas', 'dviraciai']}\n"
     ]
    }
   ],
   "source": [
    "me = {'vardas': 'Darius', 'pavarde': 'Grigaliunas', 'amzius': 27, 'miestas': 'Vilnius', 'hobiai': ['tenisas', 'dviraciai']}\n",
    "print (me)\n",
    "print (me.pop('amzius') )\n",
    "print (me)\n",
    "del me['miestas']\n",
    "print (me)"
   ]
  },
  {
   "cell_type": "markdown",
   "metadata": {},
   "source": [
    "## DICTIONARY IS MUTABLE. BE CAREFULL "
   ]
  },
  {
   "cell_type": "markdown",
   "metadata": {},
   "source": [
    "look at lesson 3"
   ]
  },
  {
   "cell_type": "code",
   "execution_count": 67,
   "metadata": {},
   "outputs": [
    {
     "name": "stdout",
     "output_type": "stream",
     "text": [
      "{'vardas': 'Darius', 'pavarde': 'Grigaliunas', 'hobiai': ['tenisas', 'dviraciai']}\n"
     ]
    }
   ],
   "source": [
    "print (me)"
   ]
  },
  {
   "cell_type": "code",
   "execution_count": 69,
   "metadata": {},
   "outputs": [
    {
     "name": "stdout",
     "output_type": "stream",
     "text": [
      "('hobiai', ['tenisas', 'dviraciai'])\n",
      "{'vardas': 'Darius', 'pavarde': 'Grigaliunas', 'amzius': 27, 'miestas': 'Vilnius'}\n",
      "('miestas', 'Vilnius')\n",
      "{'vardas': 'Darius', 'pavarde': 'Grigaliunas', 'amzius': 27}\n"
     ]
    }
   ],
   "source": [
    "# me.clear()\n",
    "me = {'vardas': 'Darius', 'pavarde': 'Grigaliunas', 'amzius': 27, 'miestas': 'Vilnius', 'hobiai': ['tenisas', 'dviraciai']}\n",
    "print( me.popitem() )\n",
    "print (me)\n",
    "print( me.popitem() )\n",
    "print (me)"
   ]
  },
  {
   "cell_type": "code",
   "execution_count": 74,
   "metadata": {},
   "outputs": [
    {
     "name": "stdout",
     "output_type": "stream",
     "text": [
      "None\n",
      "nerastas\n",
      "0\n",
      "27\n"
     ]
    }
   ],
   "source": [
    "me = {'vardas': 'Darius', 'pavarde': 'Grigaliunas', 'amzius': 27, 'miestas': 'Vilnius', 'hobiai': ['tenisas', 'dviraciai']}\n",
    "\n",
    "# me['neegzistuojantis_raktas'] # klaida\n",
    "print (me.get('neegzistuojantis_raktas') ) # nera klaidos\n",
    "print (me.get('neegzistuojantis_raktas', 'nerastas') )\n",
    "print (me.get('neegzistuojantis_raktas', 0) )\n",
    "\n",
    "print (me.get('amzius', 0) )"
   ]
  },
  {
   "cell_type": "code",
   "execution_count": 76,
   "metadata": {},
   "outputs": [
    {
     "name": "stdout",
     "output_type": "stream",
     "text": [
      "{'vardas': 'Darius', 'pavarde': 'Grigaliunas'}\n",
      "{'vardas': 'Tomas', 'pavarde': 'Grigaliunas', 'amzius': 27, 'miestas': 'Vilnius', 'hobiai': ['tenisas', 'dviraciai']}\n"
     ]
    }
   ],
   "source": [
    "me = {'vardas': 'Darius', 'pavarde': 'Grigaliunas'}\n",
    "updated_info = {'vardas': 'Tomas', 'pavarde': 'Grigaliunas', 'amzius': 27, 'miestas': 'Vilnius', 'hobiai': ['tenisas', 'dviraciai']}\n",
    "print(me)\n",
    "# me['vardas'] = updated_info['vardas']\n",
    "me.update( updated_info )\n",
    "\n",
    "print(me)\n",
    "\n",
    "# negali buti 2 vienodi raktazodziai"
   ]
  },
  {
   "cell_type": "code",
   "execution_count": 77,
   "metadata": {},
   "outputs": [
    {
     "name": "stdout",
     "output_type": "stream",
     "text": [
      "Tomas\n",
      "Grigaliunas\n",
      "27\n",
      "Vilnius\n",
      "['tenisas', 'dviraciai']\n"
     ]
    }
   ],
   "source": [
    "for value in me.values():\n",
    "    print ( value)"
   ]
  },
  {
   "cell_type": "code",
   "execution_count": 79,
   "metadata": {},
   "outputs": [
    {
     "name": "stdout",
     "output_type": "stream",
     "text": [
      "vardas\n",
      "pavarde\n",
      "amzius\n",
      "miestas\n",
      "hobiai\n"
     ]
    }
   ],
   "source": [
    "# for key in me:\n",
    "for key in me.keys():\n",
    "    print ( key )"
   ]
  },
  {
   "cell_type": "code",
   "execution_count": 81,
   "metadata": {},
   "outputs": [
    {
     "name": "stdout",
     "output_type": "stream",
     "text": [
      "key is 'vardas' with a value of: Tomas\n",
      "key is 'pavarde' with a value of: Grigaliunas\n",
      "key is 'amzius' with a value of: 27\n",
      "key is 'miestas' with a value of: Vilnius\n",
      "key is 'hobiai' with a value of: ['tenisas', 'dviraciai']\n"
     ]
    }
   ],
   "source": [
    "for key, value in me.items():\n",
    "    print (f\"key is '{key}' with a value of: {value}\")"
   ]
  },
  {
   "attachments": {},
   "cell_type": "markdown",
   "metadata": {},
   "source": [
    "https://developer.twitter.com/en/docs/twitter-api/data-dictionary/example-payloads"
   ]
  },
  {
   "cell_type": "code",
   "execution_count": 82,
   "metadata": {},
   "outputs": [],
   "source": [
    "twitter_post = {\n",
    "  \"created_at\": \"Tue Feb 27 21:11:40 +0000 2018\",\n",
    "  \"id\": 968594506663669800,\n",
    "  \"id_str\": \"968594506663669760\",\n",
    "  \"text\": \"RT @honeydrop_506: 180222 ICN #백현 #BAEKHYUNnn나의 겨울과 너nn#iHeartAwards #BestFanArmy #EXOL @weareoneEXO https://t.co/hg7I3xAlBg\",\n",
    "  \"truncated\": False,\n",
    "  \"in_reply_to_status_id\": None,\n",
    "  \"in_reply_to_status_id_str\": None,\n",
    "  \"in_reply_to_user_id\": None,\n",
    "  \"in_reply_to_user_id_str\": None,\n",
    "  \"in_reply_to_screen_name\": None,\n",
    "  \"user\": {\n",
    "    \"id\": 4448809940,\n",
    "    \"id_str\": \"4448809940\",\n",
    "    \"name\": \"ayah\",\n",
    "    \"screen_name\": \"lovbyun\",\n",
    "    \"location\": \"bbh iu jjh pcy kjd dks\",\n",
    "    \"url\": \"https://curiouscat.me/baekhyun-l\",\n",
    "    \"description\": \"hi hello I love exo\",\n",
    "    \"translator_type\": \"none\",\n",
    "    \"protected\": False,\n",
    "    \"verified\": False,\n",
    "    \"followers_count\": 1142,\n",
    "    \"friends_count\": 125,\n",
    "    \"listed_count\": 20,\n",
    "    \"favourites_count\": 5712,\n",
    "    \"statuses_count\": 4011,\n",
    "    \"created_at\": \"Fri Dec 04 03:44:59 +0000 2015\",\n",
    "    \"utc_offset\": -28800,\n",
    "    \"time_zone\": \"Pacific Time (US & Canada)\",\n",
    "    \"geo_enabled\": False,\n",
    "    \"lang\": \"en\",\n",
    "    \"contributors_enabled\": False,\n",
    "    \"is_translator\": False,\n",
    "    \"profile_background_color\": \"000000\",\n",
    "    \"profile_background_image_url\": \"http://abs.twimg.com/images/themes/theme1/bg.png\",\n",
    "    \"profile_background_image_url_https\": \"https://abs.twimg.com/images/themes/theme1/bg.png\",\n",
    "    \"profile_background_tile\": False,\n",
    "    \"profile_link_color\": \"F58EA8\",\n",
    "    \"profile_sidebar_border_color\": \"000000\",\n",
    "    \"profile_sidebar_fill_color\": \"000000\",\n",
    "    \"profile_text_color\": \"000000\",\n",
    "    \"profile_use_background_image\": False,\n",
    "    \"profile_image_url\": \"http://pbs.twimg.com/profile_images/967130320259526656/0xZ-wxXJ_normal.jpg\",\n",
    "    \"profile_image_url_https\": \"https://pbs.twimg.com/profile_images/967130320259526656/0xZ-wxXJ_normal.jpg\",\n",
    "    \"profile_banner_url\": \"https://pbs.twimg.com/profile_banners/4448809940/1519340670\",\n",
    "    \"default_profile\": False,\n",
    "    \"default_profile_image\": False,\n",
    "    \"following\": None,\n",
    "    \"follow_request_sent\": None,\n",
    "    \"notifications\": None\n",
    "  },\n",
    "}"
   ]
  },
  {
   "cell_type": "code",
   "execution_count": 83,
   "metadata": {},
   "outputs": [
    {
     "data": {
      "text/plain": [
       "{'id': 4448809940,\n",
       " 'id_str': '4448809940',\n",
       " 'name': 'ayah',\n",
       " 'screen_name': 'lovbyun',\n",
       " 'location': 'bbh iu jjh pcy kjd dks',\n",
       " 'url': 'https://curiouscat.me/baekhyun-l',\n",
       " 'description': 'hi hello I love exo',\n",
       " 'translator_type': 'none',\n",
       " 'protected': False,\n",
       " 'verified': False,\n",
       " 'followers_count': 1142,\n",
       " 'friends_count': 125,\n",
       " 'listed_count': 20,\n",
       " 'favourites_count': 5712,\n",
       " 'statuses_count': 4011,\n",
       " 'created_at': 'Fri Dec 04 03:44:59 +0000 2015',\n",
       " 'utc_offset': -28800,\n",
       " 'time_zone': 'Pacific Time (US & Canada)',\n",
       " 'geo_enabled': False,\n",
       " 'lang': 'en',\n",
       " 'contributors_enabled': False,\n",
       " 'is_translator': False,\n",
       " 'profile_background_color': '000000',\n",
       " 'profile_background_image_url': 'http://abs.twimg.com/images/themes/theme1/bg.png',\n",
       " 'profile_background_image_url_https': 'https://abs.twimg.com/images/themes/theme1/bg.png',\n",
       " 'profile_background_tile': False,\n",
       " 'profile_link_color': 'F58EA8',\n",
       " 'profile_sidebar_border_color': '000000',\n",
       " 'profile_sidebar_fill_color': '000000',\n",
       " 'profile_text_color': '000000',\n",
       " 'profile_use_background_image': False,\n",
       " 'profile_image_url': 'http://pbs.twimg.com/profile_images/967130320259526656/0xZ-wxXJ_normal.jpg',\n",
       " 'profile_image_url_https': 'https://pbs.twimg.com/profile_images/967130320259526656/0xZ-wxXJ_normal.jpg',\n",
       " 'profile_banner_url': 'https://pbs.twimg.com/profile_banners/4448809940/1519340670',\n",
       " 'default_profile': False,\n",
       " 'default_profile_image': False,\n",
       " 'following': None,\n",
       " 'follow_request_sent': None,\n",
       " 'notifications': None}"
      ]
     },
     "execution_count": 83,
     "metadata": {},
     "output_type": "execute_result"
    }
   ],
   "source": [
    "twitter_post[\"user\"]"
   ]
  },
  {
   "cell_type": "code",
   "execution_count": 84,
   "metadata": {},
   "outputs": [
    {
     "data": {
      "text/plain": [
       "125"
      ]
     },
     "execution_count": 84,
     "metadata": {},
     "output_type": "execute_result"
    }
   ],
   "source": [
    "twitter_post[ \"user\" ][ 'friends_count' ]"
   ]
  },
  {
   "cell_type": "code",
   "execution_count": 85,
   "metadata": {},
   "outputs": [],
   "source": [
    "car =\t{\n",
    "  \"brand\": \"Ford\",\n",
    "  \"model\": \"Mustang\",\n",
    "  \"year\": 1964\n",
    "}\n"
   ]
  },
  {
   "cell_type": "code",
   "execution_count": 88,
   "metadata": {},
   "outputs": [
    {
     "name": "stdout",
     "output_type": "stream",
     "text": [
      "Ford\n",
      "3\n",
      "{'brand': 'Ford', 'model': 'Mustang', 'year': 2022}\n"
     ]
    }
   ],
   "source": [
    "print( car[ 'brand' ] )\n",
    "print( len(car) )\n",
    "car[ 'year' ] = 2022\n",
    "print(car)"
   ]
  },
  {
   "cell_type": "code",
   "execution_count": 90,
   "metadata": {},
   "outputs": [
    {
     "name": "stdout",
     "output_type": "stream",
     "text": [
      "{'brand': 'Ford', 'model': 'Mustang', 'year': 2022, 'color': 'red', 'used': True}\n"
     ]
    }
   ],
   "source": [
    "car.update( {'color' : 'red', 'used' : True} )\n",
    "print(car)"
   ]
  },
  {
   "cell_type": "code",
   "execution_count": null,
   "metadata": {},
   "outputs": [],
   "source": [
    "# car[\"color\"] = ['red']\n",
    "car[\"color\"] = 'red'"
   ]
  },
  {
   "cell_type": "code",
   "execution_count": 91,
   "metadata": {},
   "outputs": [
    {
     "name": "stdout",
     "output_type": "stream",
     "text": [
      "{'model': 'Mustang', 'year': None, 'color': 'red', 'used': True}\n"
     ]
    }
   ],
   "source": [
    "car.pop('brand')\n",
    "car['year'] = None\n",
    "print(car)"
   ]
  },
  {
   "cell_type": "code",
   "execution_count": 95,
   "metadata": {},
   "outputs": [
    {
     "name": "stdout",
     "output_type": "stream",
     "text": [
      "True\n",
      "False\n",
      "False\n",
      "True\n"
     ]
    }
   ],
   "source": [
    "print ('model' in car)\n",
    "print ('brand' in car)\n",
    "print ('red' in car)\n",
    "print ('red' in car.values() )"
   ]
  },
  {
   "attachments": {},
   "cell_type": "markdown",
   "metadata": {},
   "source": [
    "# Set"
   ]
  },
  {
   "cell_type": "code",
   "execution_count": 96,
   "metadata": {},
   "outputs": [
    {
     "name": "stdout",
     "output_type": "stream",
     "text": [
      "{'b', 1, 2, 3, 100, 4, 'a'}\n"
     ]
    }
   ],
   "source": [
    "my_set = { 100,1,2,3,4,1,1,1,1,'a','b', 'b','b' }\n",
    "print(my_set)"
   ]
  },
  {
   "cell_type": "code",
   "execution_count": 97,
   "metadata": {},
   "outputs": [
    {
     "name": "stdout",
     "output_type": "stream",
     "text": [
      "['b', 1, 2, 3, 100, 4, 'a']\n"
     ]
    }
   ],
   "source": [
    "my_list = [100,1,2,3,4,1,1,1,1,'a','b', 'b','b']\n",
    "my_list = list( set(my_list) )\n",
    "print(my_list)"
   ]
  },
  {
   "cell_type": "code",
   "execution_count": 98,
   "metadata": {},
   "outputs": [
    {
     "ename": "TypeError",
     "evalue": "'set' object is not subscriptable",
     "output_type": "error",
     "traceback": [
      "\u001b[1;31m---------------------------------------------------------------------------\u001b[0m",
      "\u001b[1;31mTypeError\u001b[0m                                 Traceback (most recent call last)",
      "\u001b[1;32mc:\\Users\\Robotux\\Documents\\Python\\20230104VCSDMAVAK\\lesson_4.ipynb Cell 65\u001b[0m in \u001b[0;36m<module>\u001b[1;34m\u001b[0m\n\u001b[1;32m----> <a href='vscode-notebook-cell:/c%3A/Users/Robotux/Documents/Python/20230104VCSDMAVAK/lesson_4.ipynb#Y130sZmlsZQ%3D%3D?line=0'>1</a>\u001b[0m my_set[\u001b[39m0\u001b[39;49m]\n",
      "\u001b[1;31mTypeError\u001b[0m: 'set' object is not subscriptable"
     ]
    }
   ],
   "source": [
    "my_set[0]"
   ]
  },
  {
   "cell_type": "code",
   "execution_count": 100,
   "metadata": {},
   "outputs": [
    {
     "name": "stdout",
     "output_type": "stream",
     "text": [
      "True\n",
      "False\n"
     ]
    }
   ],
   "source": [
    "print(4 in my_set)\n",
    "print(5 in my_set)"
   ]
  },
  {
   "cell_type": "code",
   "execution_count": 101,
   "metadata": {},
   "outputs": [
    {
     "name": "stdout",
     "output_type": "stream",
     "text": [
      "7\n"
     ]
    }
   ],
   "source": [
    "print (len(my_set) )"
   ]
  },
  {
   "cell_type": "code",
   "execution_count": 105,
   "metadata": {},
   "outputs": [
    {
     "name": "stdout",
     "output_type": "stream",
     "text": [
      "{'b', 1, 2, 3, 100, 4, 'a'}\n",
      "{'b', 1, 2, 3, 100, 4, 5, 'a'}\n",
      "{'b', 1, 2, 3, 4, 5, 'a', 222, 100, 111}\n"
     ]
    }
   ],
   "source": [
    "my_set = { 100,1,2,3,4,1,1,1,1,'a','b', 'b','b' }\n",
    "print(my_set)\n",
    "my_set.add(5)\n",
    "my_set.add(1)\n",
    "print(my_set)\n",
    "my_set.update( [111,222] )\n",
    "print(my_set)"
   ]
  },
  {
   "cell_type": "code",
   "execution_count": 108,
   "metadata": {},
   "outputs": [
    {
     "name": "stdout",
     "output_type": "stream",
     "text": [
      "{'b', 1, 2, 3, 100, 4, 'a'}\n",
      "b\n",
      "1\n",
      "{2, 3, 100, 4, 'a'}\n"
     ]
    }
   ],
   "source": [
    "my_set = { 100,1,2,3,4,1,1,1,1,'a','b', 'b','b' }\n",
    "print (my_set)\n",
    "print (my_set.pop() )\n",
    "print (my_set.pop() )\n",
    "print (my_set)\n"
   ]
  },
  {
   "cell_type": "code",
   "execution_count": 111,
   "metadata": {},
   "outputs": [
    {
     "name": "stdout",
     "output_type": "stream",
     "text": [
      "{'b', 1, 2, 3, 100, 4, 'a'}\n",
      "{'b', 1, 2, 3, 100, 'a'}\n"
     ]
    },
    {
     "ename": "KeyError",
     "evalue": "4",
     "output_type": "error",
     "traceback": [
      "\u001b[1;31m---------------------------------------------------------------------------\u001b[0m",
      "\u001b[1;31mKeyError\u001b[0m                                  Traceback (most recent call last)",
      "\u001b[1;32mc:\\Users\\Robotux\\Documents\\Python\\20230104VCSDMAVAK\\lesson_4.ipynb Cell 70\u001b[0m in \u001b[0;36m<module>\u001b[1;34m\u001b[0m\n\u001b[0;32m      <a href='vscode-notebook-cell:/c%3A/Users/Robotux/Documents/Python/20230104VCSDMAVAK/lesson_4.ipynb#Y135sZmlsZQ%3D%3D?line=2'>3</a>\u001b[0m my_set\u001b[39m.\u001b[39mremove(\u001b[39m4\u001b[39m)\n\u001b[0;32m      <a href='vscode-notebook-cell:/c%3A/Users/Robotux/Documents/Python/20230104VCSDMAVAK/lesson_4.ipynb#Y135sZmlsZQ%3D%3D?line=3'>4</a>\u001b[0m \u001b[39mprint\u001b[39m (my_set)\n\u001b[1;32m----> <a href='vscode-notebook-cell:/c%3A/Users/Robotux/Documents/Python/20230104VCSDMAVAK/lesson_4.ipynb#Y135sZmlsZQ%3D%3D?line=4'>5</a>\u001b[0m my_set\u001b[39m.\u001b[39;49mremove(\u001b[39m4\u001b[39;49m)\n\u001b[0;32m      <a href='vscode-notebook-cell:/c%3A/Users/Robotux/Documents/Python/20230104VCSDMAVAK/lesson_4.ipynb#Y135sZmlsZQ%3D%3D?line=5'>6</a>\u001b[0m \u001b[39mprint\u001b[39m (my_set)\n",
      "\u001b[1;31mKeyError\u001b[0m: 4"
     ]
    }
   ],
   "source": [
    "my_set = { 100,1,2,3,4,1,1,1,1,'a','b', 'b','b' }\n",
    "print (my_set)\n",
    "my_set.remove(4)\n",
    "print (my_set)\n",
    "# my_set.remove(4) # klaida\n",
    "# print (my_set)"
   ]
  },
  {
   "cell_type": "code",
   "execution_count": 112,
   "metadata": {},
   "outputs": [
    {
     "name": "stdout",
     "output_type": "stream",
     "text": [
      "{'b', 1, 2, 3, 100, 4, 'a'}\n",
      "{'b', 1, 2, 3, 100, 'a'}\n",
      "{'b', 1, 2, 3, 100, 'a'}\n"
     ]
    }
   ],
   "source": [
    "my_set = { 100,1,2,3,4,1,1,1,1,'a','b', 'b','b' }\n",
    "print (my_set)\n",
    "my_set.discard(4)\n",
    "print (my_set)\n",
    "my_set.discard(4)\n",
    "my_set.discard(4)\n",
    "my_set.discard(4)\n",
    "my_set.discard(4)\n",
    "my_set.discard(4)\n",
    "print (my_set)"
   ]
  },
  {
   "cell_type": "code",
   "execution_count": 116,
   "metadata": {},
   "outputs": [
    {
     "name": "stdout",
     "output_type": "stream",
     "text": [
      "{1, 3, 4, 5, 6, 7, 8, 9}\n",
      "{1, 3}\n",
      "{8, 9, 4, 6}\n",
      "{5, 7}\n"
     ]
    }
   ],
   "source": [
    "my_set_1 = {1,3,5,7}\n",
    "my_set_2 = { 4,5,6,7,8,9 }\n",
    "\n",
    "print( my_set_1.union( my_set_2 ) )\n",
    "print( my_set_1.difference( my_set_2 ) )\n",
    "print( my_set_2.difference( my_set_1 ) )\n",
    "\n",
    "print( my_set_1.intersection( my_set_2 ) )"
   ]
  },
  {
   "cell_type": "code",
   "execution_count": 120,
   "metadata": {},
   "outputs": [
    {
     "name": "stdout",
     "output_type": "stream",
     "text": [
      "True\n",
      "False\n",
      "True\n",
      "False\n"
     ]
    }
   ],
   "source": [
    "small_set = {2,4}\n",
    "big_set = {1,2,3,4,5}\n",
    "\n",
    "print (small_set.issubset(big_set) )\n",
    "print (big_set.issubset(small_set) )\n",
    "print (big_set.issuperset(small_set) )\n",
    "print (small_set.issuperset(big_set) )"
   ]
  },
  {
   "cell_type": "code",
   "execution_count": 121,
   "metadata": {},
   "outputs": [
    {
     "name": "stdout",
     "output_type": "stream",
     "text": [
      "{'apple', ('nauja_reiksme', 5), 'banana', 'cherry'}\n"
     ]
    }
   ],
   "source": [
    "fruits = {\"apple\", \"banana\", \"cherry\"}\n",
    "fruits.add( (\"nauja_reiksme\", 5) )\n",
    "print(fruits)"
   ]
  },
  {
   "cell_type": "code",
   "execution_count": 123,
   "metadata": {},
   "outputs": [
    {
     "name": "stdout",
     "output_type": "stream",
     "text": [
      "{'banana', 'cherry'}\n",
      "{'banana', 'cherry', 'watermelon'}\n"
     ]
    }
   ],
   "source": [
    "fruits = {\"apple\", \"banana\", \"cherry\"}\n",
    "fruits.discard('apple')\n",
    "print (fruits)\n",
    "fruits.add( 'watermelon' )\n",
    "print (fruits)"
   ]
  },
  {
   "cell_type": "code",
   "execution_count": 127,
   "metadata": {},
   "outputs": [
    {
     "name": "stdout",
     "output_type": "stream",
     "text": [
      "{'banana', 'watermelon', 'tangerine', 'cherry', 'pineapple', 'apple', 'melon', 'coconut', 'pear'}\n",
      "{'banana', 'watermelon', 'tangerine', 'cherry', 'pineapple', 'melon', 'coconut', 'pear'}\n",
      "8\n",
      "{'banana', 'watermelon', 'tangerine', 'cherry', 'pineapple', 'melon', 'coconut', 'pear'}\n",
      "8\n"
     ]
    }
   ],
   "source": [
    "fruits = {\"apple\", \"banana\", \"cherry\"}\n",
    "fruits.add( 'watermelon' )\n",
    "fruits.update( ['pear', 'pineapple', 'coconut', 'tangerine', 'melon'] )\n",
    "print (fruits)\n",
    "fruits.discard('apple')\n",
    "print (fruits)\n",
    "print (len(fruits))\n",
    "fruits.add( 'watermelon' )\n",
    "print (fruits)\n",
    "print (len(fruits))"
   ]
  },
  {
   "cell_type": "code",
   "execution_count": null,
   "metadata": {},
   "outputs": [],
   "source": []
  }
 ],
 "metadata": {
  "kernelspec": {
   "display_name": "Python 3",
   "language": "python",
   "name": "python3"
  },
  "language_info": {
   "codemirror_mode": {
    "name": "ipython",
    "version": 3
   },
   "file_extension": ".py",
   "mimetype": "text/x-python",
   "name": "python",
   "nbconvert_exporter": "python",
   "pygments_lexer": "ipython3",
   "version": "3.10.2"
  },
  "orig_nbformat": 4,
  "vscode": {
   "interpreter": {
    "hash": "db50a459ab6695ace3368e8957af3456c8c93e92d9fe6c38987133d01669da40"
   }
  }
 },
 "nbformat": 4,
 "nbformat_minor": 2
}
