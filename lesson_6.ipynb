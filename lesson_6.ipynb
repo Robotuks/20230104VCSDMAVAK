{
 "cells": [
  {
   "attachments": {},
   "cell_type": "markdown",
   "metadata": {},
   "source": [
    "# Namu darbai 3"
   ]
  },
  {
   "attachments": {},
   "cell_type": "markdown",
   "metadata": {},
   "source": [
    "1. Rasti pasikartojančius elementus tarp dviejų list'ų"
   ]
  },
  {
   "cell_type": "code",
   "execution_count": 2,
   "metadata": {},
   "outputs": [
    {
     "name": "stdout",
     "output_type": "stream",
     "text": [
      "{8, 9, 3, 15}\n",
      "[8, 9, 3, 15]\n"
     ]
    }
   ],
   "source": [
    "a = [1,2,3,4,5,6,7,8,9,15]  \n",
    "b = [3,8,9,11,15]\n",
    "\n",
    "a = set( a )\n",
    "b = set( b )\n",
    "print (a.intersection( b ) )\n",
    "c = list( a.intersection( b ) )\n",
    "print(c)"
   ]
  },
  {
   "attachments": {},
   "cell_type": "markdown",
   "metadata": {},
   "source": [
    "2. Išfiltruoti unikalius teigiamus numeris iš sąrašo"
   ]
  },
  {
   "cell_type": "code",
   "execution_count": 6,
   "metadata": {},
   "outputs": [
    {
     "name": "stdout",
     "output_type": "stream",
     "text": [
      "{800, 1, 2, 900, 5, 8, 10, -20, 12, 14, -9, -8, -6, -900}\n",
      "[800, 1, 2, 900, 5, 8, 10, 12, 14]\n"
     ]
    }
   ],
   "source": [
    "x = [1, 5, 1, 2, 8, -9, 10, 1, -8, -900, 14, 5, -8, 2, 1, -20, 900, 800, -6, -8, 12, 1]\n",
    "\n",
    "x = set(x)\n",
    "print(x)\n",
    "# result = [ number for number in x if number > 0 ]\n",
    "result = []\n",
    "for number in x:\n",
    "    if number > 0:\n",
    "        result.append(number)\n",
    "print(result)\n"
   ]
  },
  {
   "attachments": {},
   "cell_type": "markdown",
   "metadata": {},
   "source": [
    "3. Paskaičiuoti pelną pardavus visas prekes. Informacija apie kainą ir kiekius yra pateikiama kaip dictionary, atsakymą suapvalinti iki 2 skaičių po kablelio."
   ]
  },
  {
   "cell_type": "code",
   "execution_count": 9,
   "metadata": {},
   "outputs": [
    {
     "name": "stdout",
     "output_type": "stream",
     "text": [
      "14943.96\n",
      "pelnas: 14943.96\n"
     ]
    }
   ],
   "source": [
    "x = { \"cost_price\": 32.67,\n",
    "         \"sell_price\": 45.00,\n",
    "          \"inventory\": 1212  }\n",
    "\n",
    "profit = (x[\"sell_price\"] - x[\"cost_price\"]) * x[\"inventory\"]\n",
    "rounded_profit = round( profit, 2 )\n",
    "print (rounded_profit)\n",
    "print( f'pelnas: {profit:.2f}')"
   ]
  },
  {
   "attachments": {},
   "cell_type": "markdown",
   "metadata": {},
   "source": [
    "4. Leiskite įvesti 10 žodžių, programa turi atsakyti į tokius klausimus:\n",
    "- Kiek žodžių yra ilgesnių nei 10 simbolių  \n",
    "- Kuris žodis yra ilgiausias ir trumpiausias  \n",
    "- Ar nors vienas žodis yra palindromas, jei taip, koks arba kokie tai žodžiai\n",
    "\n",
    "Palindromas - atvirkščiai skaitant žodį, gaunasi tas pats žodis.  \n",
    "savas -> savas  "
   ]
  },
  {
   "cell_type": "code",
   "execution_count": 21,
   "metadata": {},
   "outputs": [
    {
     "name": "stdout",
     "output_type": "stream",
     "text": [
      "['kompiuteris']\n",
      "1\n",
      "ilgiausias zodis: kompiuteris\n",
      "trumpiausias zodis: as\n",
      "['savas', 'aha', 'iki']\n",
      "['savas', 'aha', 'iki']\n"
     ]
    }
   ],
   "source": [
    "zodziai = ['as', 'savas', 'kompiuteris', 'obuolis', 'morka', 'pele', 'namas', 'konkorezis', 'internetas', 'aha', 'iki']\n",
    "\n",
    "ilgi_zodziai = [ zodis for zodis in zodziai if len(zodis) > 10 ]\n",
    "print(ilgi_zodziai)\n",
    "print (len(ilgi_zodziai))\n",
    "ilgiausias_zodis = max( zodziai, key=lambda zodis: len(zodis) )\n",
    "print(\"ilgiausias zodis:\", ilgiausias_zodis)\n",
    "trumpiausias_zodis = min( zodziai, key=lambda zodis: len(zodis) )\n",
    "print(\"trumpiausias zodis:\",trumpiausias_zodis)\n",
    "\n",
    "polindromai = [ zodis for zodis in zodziai if zodis == zodis[::-1] ]\n",
    "print (polindromai)\n",
    "# polindromai = [ 'polindromas' for zodis in zodziai if zodis == zodis[::-1] ]\n",
    "# print (polindromai)\n",
    "\n",
    "result = []\n",
    "for zodis in zodziai:\n",
    "    if zodis == zodis[::-1]:\n",
    "        result.append(zodis)\n",
    "print( result ) "
   ]
  },
  {
   "attachments": {},
   "cell_type": "markdown",
   "metadata": {},
   "source": [
    "5. Turėdami list’ą, gaukite didžiausią šalia esančių skaičių sandaugą"
   ]
  },
  {
   "cell_type": "code",
   "execution_count": 30,
   "metadata": {},
   "outputs": [
    {
     "name": "stdout",
     "output_type": "stream",
     "text": [
      "po indeksu 0 yra skaicius 3, o kaimynas su indeksu 1 yra 6\n",
      "po indeksu 1 yra skaicius 6, o kaimynas su indeksu 2 yra -2\n",
      "po indeksu 2 yra skaicius -2, o kaimynas su indeksu 3 yra -5\n",
      "po indeksu 3 yra skaicius -5, o kaimynas su indeksu 4 yra 7\n",
      "po indeksu 4 yra skaicius 7, o kaimynas su indeksu 5 yra 3\n",
      "[18, -12, 10, -35, 21]\n",
      "21\n"
     ]
    }
   ],
   "source": [
    "my_list = [3, 6, -2, -5, 7, 3]\n",
    "\n",
    "suma=[]\n",
    "for idx in range(0, len(my_list) - 1 ):\n",
    "    print(f'po indeksu {idx} yra skaicius {my_list[idx]}, o kaimynas su indeksu {idx+1} yra {my_list[idx+1]}' )\n",
    "    # print(f', o kaimynas su indeksu {idx+1} yra {my_list[idx+1]}')\n",
    "    suma.append( my_list[idx] * my_list[idx+1] )\n",
    "print(suma)\n",
    "print (max(suma))"
   ]
  },
  {
   "cell_type": "code",
   "execution_count": 34,
   "metadata": {},
   "outputs": [
    {
     "name": "stdout",
     "output_type": "stream",
     "text": [
      "[3, 6, -2, -5, 7]\n",
      "[6, -2, -5, 7, 3]\n",
      "sk_1: 3, sk_2: 6\n",
      "sk_1: 6, sk_2: -2\n",
      "sk_1: -2, sk_2: -5\n",
      "sk_1: -5, sk_2: 7\n",
      "sk_1: 7, sk_2: 3\n",
      "21\n"
     ]
    }
   ],
   "source": [
    "my_list = [3, 6, -2, -5, 7, 3]\n",
    "\n",
    "print (my_list[:-1])\n",
    "print (my_list[1:])\n",
    "\n",
    "sandauga = my_list[0] * my_list[1]\n",
    "\n",
    "for skaicius_1, skaicius_2 in zip( my_list[:-1], my_list[1:] ):\n",
    "    print(f'sk_1: {skaicius_1}, sk_2: {skaicius_2}')\n",
    "    sandauga = max(sandauga, skaicius_1 * skaicius_2)\n",
    "    # if sandauga < skaicius_1 * skaicius_2:\n",
    "    #     sandauga = skaicius_1 * skaicius_2\n",
    "\n",
    "print(sandauga)\n"
   ]
  },
  {
   "attachments": {},
   "cell_type": "markdown",
   "metadata": {},
   "source": [
    "# Namu darbai 4"
   ]
  },
  {
   "attachments": {},
   "cell_type": "markdown",
   "metadata": {},
   "source": [
    "1. (Pabaigti) Parašykite funkciją, kuri priima du list tipo kintamuosius, iš pirmojo filtro išimam visas reikšmes didesnes nei 10, antrame palieka tik reikšmes kurių reikšmės susideda bent iš dviejų skaitmenų, pirmojo listo reikšmes sudėkite, antrojo taip pat sudėkite, grąžinkite sandaugą iš dviejų modifikuotų listų."
   ]
  },
  {
   "cell_type": "code",
   "execution_count": 43,
   "metadata": {},
   "outputs": [],
   "source": [
    "# def functionExcersice( list_1, list_2): # tas pats \n",
    "def functionExcersice( list_1: list, list_2: list):\n",
    "    list_1 = list( filter(lambda x: x <= 10, list_1) )\n",
    "    # print (list_1)\n",
    "    list_2 =  list(filter(lambda x: abs( x ) >= 10 , list_2) ) # o kas jei neigiamas dvizenklis???? abs()\n",
    "    # print (list_2)\n",
    "    sum_1 = sum(list_1)\n",
    "    sum_2 = sum(list_2)\n",
    "    # print(sum_1)\n",
    "    # print(sum_2)\n",
    "    return sum_1 * sum_2"
   ]
  },
  {
   "cell_type": "code",
   "execution_count": 44,
   "metadata": {},
   "outputs": [
    {
     "data": {
      "text/plain": [
       "26214"
      ]
     },
     "execution_count": 44,
     "metadata": {},
     "output_type": "execute_result"
    }
   ],
   "source": [
    "functionExcersice([10,9,6,16,15,55,2,7], [20,642,33,76,9,7,2])"
   ]
  },
  {
   "attachments": {},
   "cell_type": "markdown",
   "metadata": {},
   "source": [
    "2. Parašykite funkciją, kuri priims listą ir patikrins ar listo narys n+1 yra 1 didesnis nei n, jeigu visi listo nariai einantys vienas po kito yra didesni per 1, vadinasi anomalijos nėra, jei nors 1 narys neatitinka sekos, vadinasi yra anomalija"
   ]
  },
  {
   "cell_type": "code",
   "execution_count": 53,
   "metadata": {},
   "outputs": [
    {
     "name": "stdout",
     "output_type": "stream",
     "text": [
      "17\n",
      "24\n",
      "list_3[idx] yra 17, o list_3[idx + 1] yra 18\n",
      "list_3[idx] + 1 yra 18, o list_3[idx + 1] yra 18\n",
      "Anomalijos tarp skaiciu 17 ir 18 nera\n",
      "17\n",
      "24\n",
      "list_3[idx] yra 18, o list_3[idx + 1] yra 19\n",
      "list_3[idx] + 1 yra 19, o list_3[idx + 1] yra 19\n",
      "Anomalijos tarp skaiciu 18 ir 19 nera\n",
      "17\n",
      "24\n",
      "list_3[idx] yra 19, o list_3[idx + 1] yra 21\n",
      "list_3[idx] + 1 yra 20, o list_3[idx + 1] yra 21\n",
      "Anomalija tarp skaiciu 19 ir 21. Skirtumas yra 2\n",
      "17\n",
      "24\n",
      "list_3[idx] yra 21, o list_3[idx + 1] yra 24\n",
      "list_3[idx] + 1 yra 22, o list_3[idx + 1] yra 24\n",
      "Anomalija tarp skaiciu 21 ir 24. Skirtumas yra 3\n"
     ]
    }
   ],
   "source": [
    "list_3 = [17,18,19,21, 24]\n",
    "\n",
    "for idx in range(0, len(list_3) - 1 ):\n",
    "    print(f'list_3[idx] yra {list_3[idx] }, o list_3[idx + 1] yra {list_3[idx + 1]}')\n",
    "    # print(f'list_3[0] yra {list_3[0] }, o list_3[0 + 1] yra {list_3[0 + 1]}')\n",
    "    print(f'list_3[idx] + 1 yra {list_3[idx] + 1 }, o list_3[idx + 1] yra {list_3[idx + 1]}')\n",
    "    if list_3[idx] + 1 == list_3[idx + 1]:\n",
    "        print(f'Anomalijos tarp skaiciu {list_3[idx]} ir {list_3[idx+1]} nera')\n",
    "    else:\n",
    "        print(f'Anomalija tarp skaiciu {list_3[idx]} ir {list_3[idx+1]}. Skirtumas yra {list_3[idx+1] -  list_3[idx]}')"
   ]
  },
  {
   "attachments": {},
   "cell_type": "markdown",
   "metadata": {},
   "source": [
    "3. Parašykite funkciją, kuri priims string tipo kintamąjį, gražinkite kiek tame stringę yra raidžių, skaičių ir skyrybos (specialių) ženklų, tarpų."
   ]
  },
  {
   "cell_type": "code",
   "execution_count": null,
   "metadata": {},
   "outputs": [],
   "source": []
  },
  {
   "attachments": {},
   "cell_type": "markdown",
   "metadata": {},
   "source": [
    "4. Parašykite funkciją, kuri priima tris skaičius, jie reikš nuo, iki ir žingsnis. Funkcija turi grąžinti listą skaičių tokių, kokius padavėte funkcijai."
   ]
  },
  {
   "cell_type": "code",
   "execution_count": null,
   "metadata": {},
   "outputs": [],
   "source": []
  },
  {
   "attachments": {},
   "cell_type": "markdown",
   "metadata": {},
   "source": [
    "5.  Parašyti funkciją, kuri priima vieną list tipo kintamąjį, funkcija grąžina skirtumą tarp didžiausio skaičiaus ir mažiausio skaičiaus."
   ]
  },
  {
   "cell_type": "code",
   "execution_count": null,
   "metadata": {},
   "outputs": [],
   "source": []
  },
  {
   "cell_type": "code",
   "execution_count": null,
   "metadata": {},
   "outputs": [],
   "source": []
  },
  {
   "attachments": {},
   "cell_type": "markdown",
   "metadata": {},
   "source": [
    "# Klaidų valdymas"
   ]
  },
  {
   "cell_type": "code",
   "execution_count": 54,
   "metadata": {},
   "outputs": [
    {
     "ename": "SyntaxError",
     "evalue": "unterminated string literal (detected at line 1) (256276925.py, line 1)",
     "output_type": "error",
     "traceback": [
      "\u001b[1;36m  Input \u001b[1;32mIn [54]\u001b[1;36m\u001b[0m\n\u001b[1;33m    'asdfasd\u001b[0m\n\u001b[1;37m    ^\u001b[0m\n\u001b[1;31mSyntaxError\u001b[0m\u001b[1;31m:\u001b[0m unterminated string literal (detected at line 1)\n"
     ]
    }
   ],
   "source": [
    "'asdfasd"
   ]
  },
  {
   "cell_type": "code",
   "execution_count": 55,
   "metadata": {},
   "outputs": [],
   "source": [
    "import math"
   ]
  },
  {
   "cell_type": "code",
   "execution_count": 56,
   "metadata": {},
   "outputs": [
    {
     "ename": "ModuleNotFoundError",
     "evalue": "No module named 'math4'",
     "output_type": "error",
     "traceback": [
      "\u001b[1;31m---------------------------------------------------------------------------\u001b[0m",
      "\u001b[1;31mModuleNotFoundError\u001b[0m                       Traceback (most recent call last)",
      "\u001b[1;32mc:\\Users\\Robotux\\Documents\\Python\\20230104VCSDMAVAK\\lesson_6.ipynb Cell 29\u001b[0m in \u001b[0;36m<module>\u001b[1;34m\u001b[0m\n\u001b[1;32m----> <a href='vscode-notebook-cell:/c%3A/Users/Robotux/Documents/Python/20230104VCSDMAVAK/lesson_6.ipynb#X42sZmlsZQ%3D%3D?line=0'>1</a>\u001b[0m \u001b[39mimport\u001b[39;00m \u001b[39mmath4\u001b[39;00m\n",
      "\u001b[1;31mModuleNotFoundError\u001b[0m: No module named 'math4'"
     ]
    }
   ],
   "source": [
    "import math4"
   ]
  },
  {
   "cell_type": "code",
   "execution_count": 57,
   "metadata": {},
   "outputs": [
    {
     "ename": "IndexError",
     "evalue": "list index out of range",
     "output_type": "error",
     "traceback": [
      "\u001b[1;31m---------------------------------------------------------------------------\u001b[0m",
      "\u001b[1;31mIndexError\u001b[0m                                Traceback (most recent call last)",
      "\u001b[1;32mc:\\Users\\Robotux\\Documents\\Python\\20230104VCSDMAVAK\\lesson_6.ipynb Cell 30\u001b[0m in \u001b[0;36m<module>\u001b[1;34m\u001b[0m\n\u001b[0;32m      <a href='vscode-notebook-cell:/c%3A/Users/Robotux/Documents/Python/20230104VCSDMAVAK/lesson_6.ipynb#X43sZmlsZQ%3D%3D?line=0'>1</a>\u001b[0m my_list \u001b[39m=\u001b[39m [\u001b[39m1\u001b[39m,\u001b[39m2\u001b[39m]\n\u001b[1;32m----> <a href='vscode-notebook-cell:/c%3A/Users/Robotux/Documents/Python/20230104VCSDMAVAK/lesson_6.ipynb#X43sZmlsZQ%3D%3D?line=1'>2</a>\u001b[0m my_list[\u001b[39m3\u001b[39;49m]\n",
      "\u001b[1;31mIndexError\u001b[0m: list index out of range"
     ]
    }
   ],
   "source": [
    "my_list = [1,2]\n",
    "my_list[3]"
   ]
  },
  {
   "cell_type": "code",
   "execution_count": 59,
   "metadata": {},
   "outputs": [
    {
     "ename": "ImportError",
     "evalue": "cannot import name 'cube' from 'math' (unknown location)",
     "output_type": "error",
     "traceback": [
      "\u001b[1;31m---------------------------------------------------------------------------\u001b[0m",
      "\u001b[1;31mImportError\u001b[0m                               Traceback (most recent call last)",
      "\u001b[1;32mc:\\Users\\Robotux\\Documents\\Python\\20230104VCSDMAVAK\\lesson_6.ipynb Cell 31\u001b[0m in \u001b[0;36m<module>\u001b[1;34m\u001b[0m\n\u001b[0;32m      <a href='vscode-notebook-cell:/c%3A/Users/Robotux/Documents/Python/20230104VCSDMAVAK/lesson_6.ipynb#X44sZmlsZQ%3D%3D?line=0'>1</a>\u001b[0m \u001b[39mimport\u001b[39;00m \u001b[39mmath\u001b[39;00m\n\u001b[1;32m----> <a href='vscode-notebook-cell:/c%3A/Users/Robotux/Documents/Python/20230104VCSDMAVAK/lesson_6.ipynb#X44sZmlsZQ%3D%3D?line=1'>2</a>\u001b[0m \u001b[39mfrom\u001b[39;00m \u001b[39mmath\u001b[39;00m \u001b[39mimport\u001b[39;00m radians, cube\n",
      "\u001b[1;31mImportError\u001b[0m: cannot import name 'cube' from 'math' (unknown location)"
     ]
    }
   ],
   "source": [
    "import math\n",
    "from math import radians, cube\n"
   ]
  },
  {
   "cell_type": "code",
   "execution_count": 60,
   "metadata": {},
   "outputs": [
    {
     "ename": "NameError",
     "evalue": "name 'name' is not defined",
     "output_type": "error",
     "traceback": [
      "\u001b[1;31m---------------------------------------------------------------------------\u001b[0m",
      "\u001b[1;31mNameError\u001b[0m                                 Traceback (most recent call last)",
      "\u001b[1;32mc:\\Users\\Robotux\\Documents\\Python\\20230104VCSDMAVAK\\lesson_6.ipynb Cell 32\u001b[0m in \u001b[0;36m<module>\u001b[1;34m\u001b[0m\n\u001b[1;32m----> <a href='vscode-notebook-cell:/c%3A/Users/Robotux/Documents/Python/20230104VCSDMAVAK/lesson_6.ipynb#X45sZmlsZQ%3D%3D?line=0'>1</a>\u001b[0m \u001b[39mprint\u001b[39m( name )\n\u001b[0;32m      <a href='vscode-notebook-cell:/c%3A/Users/Robotux/Documents/Python/20230104VCSDMAVAK/lesson_6.ipynb#X45sZmlsZQ%3D%3D?line=1'>2</a>\u001b[0m name \u001b[39m=\u001b[39m \u001b[39m'\u001b[39m\u001b[39mDarius\u001b[39m\u001b[39m'\u001b[39m\n",
      "\u001b[1;31mNameError\u001b[0m: name 'name' is not defined"
     ]
    }
   ],
   "source": [
    "print( name )\n",
    "name = 'Darius'"
   ]
  },
  {
   "attachments": {},
   "cell_type": "markdown",
   "metadata": {},
   "source": [
    "## Klaidų sukėlimas (raise)"
   ]
  },
  {
   "cell_type": "code",
   "execution_count": 67,
   "metadata": {},
   "outputs": [],
   "source": [
    "def add_numbers(a, b):\n",
    "    if not isinstance(a, int):\n",
    "        raise ValueError(f\"kintamojo 'a' verte nera skaicius. Pateikite skaiciu\")\n",
    "    if not isinstance(b, int):\n",
    "        raise ValueError(f\"kintamojo 'b' verte nera skaicius. Pateikite skaiciu\")\n",
    "    return a + b\n"
   ]
  },
  {
   "cell_type": "code",
   "execution_count": 68,
   "metadata": {},
   "outputs": [
    {
     "data": {
      "text/plain": [
       "9"
      ]
     },
     "execution_count": 68,
     "metadata": {},
     "output_type": "execute_result"
    }
   ],
   "source": [
    "add_numbers(5,4)"
   ]
  },
  {
   "cell_type": "code",
   "execution_count": 69,
   "metadata": {},
   "outputs": [
    {
     "ename": "ValueError",
     "evalue": "kintamojo 'b' verte nera skaicius. Pateikite skaiciu",
     "output_type": "error",
     "traceback": [
      "\u001b[1;31m---------------------------------------------------------------------------\u001b[0m",
      "\u001b[1;31mValueError\u001b[0m                                Traceback (most recent call last)",
      "\u001b[1;32mc:\\Users\\Robotux\\Documents\\Python\\20230104VCSDMAVAK\\lesson_6.ipynb Cell 35\u001b[0m in \u001b[0;36m<module>\u001b[1;34m\u001b[0m\n\u001b[1;32m----> <a href='vscode-notebook-cell:/c%3A/Users/Robotux/Documents/Python/20230104VCSDMAVAK/lesson_6.ipynb#X52sZmlsZQ%3D%3D?line=0'>1</a>\u001b[0m add_numbers(\u001b[39m5\u001b[39;49m,\u001b[39m'\u001b[39;49m\u001b[39m4\u001b[39;49m\u001b[39m'\u001b[39;49m)\n",
      "\u001b[1;32mc:\\Users\\Robotux\\Documents\\Python\\20230104VCSDMAVAK\\lesson_6.ipynb Cell 35\u001b[0m in \u001b[0;36madd_numbers\u001b[1;34m(a, b)\u001b[0m\n\u001b[0;32m      <a href='vscode-notebook-cell:/c%3A/Users/Robotux/Documents/Python/20230104VCSDMAVAK/lesson_6.ipynb#X52sZmlsZQ%3D%3D?line=2'>3</a>\u001b[0m     \u001b[39mraise\u001b[39;00m \u001b[39mValueError\u001b[39;00m(\u001b[39mf\u001b[39m\u001b[39m\"\u001b[39m\u001b[39mkintamojo \u001b[39m\u001b[39m'\u001b[39m\u001b[39ma\u001b[39m\u001b[39m'\u001b[39m\u001b[39m verte nera skaicius. Pateikite skaiciu\u001b[39m\u001b[39m\"\u001b[39m)\n\u001b[0;32m      <a href='vscode-notebook-cell:/c%3A/Users/Robotux/Documents/Python/20230104VCSDMAVAK/lesson_6.ipynb#X52sZmlsZQ%3D%3D?line=3'>4</a>\u001b[0m \u001b[39mif\u001b[39;00m \u001b[39mnot\u001b[39;00m \u001b[39misinstance\u001b[39m(b, \u001b[39mint\u001b[39m):\n\u001b[1;32m----> <a href='vscode-notebook-cell:/c%3A/Users/Robotux/Documents/Python/20230104VCSDMAVAK/lesson_6.ipynb#X52sZmlsZQ%3D%3D?line=4'>5</a>\u001b[0m     \u001b[39mraise\u001b[39;00m \u001b[39mValueError\u001b[39;00m(\u001b[39mf\u001b[39m\u001b[39m\"\u001b[39m\u001b[39mkintamojo \u001b[39m\u001b[39m'\u001b[39m\u001b[39mb\u001b[39m\u001b[39m'\u001b[39m\u001b[39m verte nera skaicius. Pateikite skaiciu\u001b[39m\u001b[39m\"\u001b[39m)\n\u001b[0;32m      <a href='vscode-notebook-cell:/c%3A/Users/Robotux/Documents/Python/20230104VCSDMAVAK/lesson_6.ipynb#X52sZmlsZQ%3D%3D?line=5'>6</a>\u001b[0m \u001b[39mreturn\u001b[39;00m a \u001b[39m+\u001b[39m b\n",
      "\u001b[1;31mValueError\u001b[0m: kintamojo 'b' verte nera skaicius. Pateikite skaiciu"
     ]
    }
   ],
   "source": [
    "add_numbers(5,'4')"
   ]
  },
  {
   "attachments": {},
   "cell_type": "markdown",
   "metadata": {},
   "source": [
    "## Klaidų išvengimas (try/except)"
   ]
  },
  {
   "cell_type": "code",
   "execution_count": 71,
   "metadata": {},
   "outputs": [
    {
     "ename": "NameError",
     "evalue": "name 'name' is not defined",
     "output_type": "error",
     "traceback": [
      "\u001b[1;31m---------------------------------------------------------------------------\u001b[0m",
      "\u001b[1;31mNameError\u001b[0m                                 Traceback (most recent call last)",
      "\u001b[1;32mc:\\Users\\Robotux\\Documents\\Python\\20230104VCSDMAVAK\\lesson_6.ipynb Cell 38\u001b[0m in \u001b[0;36m<module>\u001b[1;34m\u001b[0m\n\u001b[1;32m----> <a href='vscode-notebook-cell:/c%3A/Users/Robotux/Documents/Python/20230104VCSDMAVAK/lesson_6.ipynb#X53sZmlsZQ%3D%3D?line=0'>1</a>\u001b[0m \u001b[39mprint\u001b[39m(name)\n\u001b[0;32m      <a href='vscode-notebook-cell:/c%3A/Users/Robotux/Documents/Python/20230104VCSDMAVAK/lesson_6.ipynb#X53sZmlsZQ%3D%3D?line=1'>2</a>\u001b[0m \u001b[39mprint\u001b[39m (\u001b[39m'\u001b[39m\u001b[39mkodo pabaiga\u001b[39m\u001b[39m'\u001b[39m)\n",
      "\u001b[1;31mNameError\u001b[0m: name 'name' is not defined"
     ]
    }
   ],
   "source": [
    "print(name)\n",
    "print ('kodo pabaiga')"
   ]
  },
  {
   "cell_type": "code",
   "execution_count": 74,
   "metadata": {},
   "outputs": [
    {
     "name": "stdout",
     "output_type": "stream",
     "text": [
      "Kodo pradzia\n",
      "ivyko klaida\n",
      "kodo pabaiga\n"
     ]
    }
   ],
   "source": [
    "try:\n",
    "    print ('Kodo pradzia')\n",
    "    print(name)\n",
    "    print('try pabaiga')\n",
    "except:\n",
    "    print('ivyko klaida')\n",
    "print ('kodo pabaiga')\n"
   ]
  },
  {
   "cell_type": "code",
   "execution_count": 75,
   "metadata": {},
   "outputs": [
    {
     "name": "stdout",
     "output_type": "stream",
     "text": [
      "Kodo pradzia\n",
      "kodo pabaiga\n"
     ]
    }
   ],
   "source": [
    "try:\n",
    "    print ('Kodo pradzia')\n",
    "except:\n",
    "    print('ivyko klaida') # klaidos nebuvo, praleidziam\n",
    "print ('kodo pabaiga')"
   ]
  },
  {
   "cell_type": "code",
   "execution_count": 79,
   "metadata": {},
   "outputs": [
    {
     "name": "stdout",
     "output_type": "stream",
     "text": [
      "Kodo pradzia\n",
      "ivyko klaida\n",
      "kodo pabaiga\n"
     ]
    }
   ],
   "source": [
    "try:\n",
    "    print ('Kodo pradzia')\n",
    "    # 5/0\n",
    "    print(name)\n",
    "    # print('try pabaiga')\n",
    "except: # NENAUDOTI except  be klaidos tipo\n",
    "    print('ivyko klaida')\n",
    "print ('kodo pabaiga')"
   ]
  },
  {
   "cell_type": "code",
   "execution_count": 80,
   "metadata": {},
   "outputs": [
    {
     "name": "stdout",
     "output_type": "stream",
     "text": [
      "Kodo pradzia\n",
      "name 'name' is not defined\n",
      "kodo pabaiga\n"
     ]
    }
   ],
   "source": [
    "try:\n",
    "    print ('Kodo pradzia')\n",
    "    # 5/0\n",
    "    print(name)\n",
    "    # print('try pabaiga')\n",
    "except NameError as e: # NENAUDOTI except  be klaidos tipo\n",
    "    print(e)\n",
    "print ('kodo pabaiga')"
   ]
  },
  {
   "cell_type": "code",
   "execution_count": 81,
   "metadata": {},
   "outputs": [
    {
     "name": "stdout",
     "output_type": "stream",
     "text": [
      "Kodo pradzia\n"
     ]
    },
    {
     "ename": "ZeroDivisionError",
     "evalue": "division by zero",
     "output_type": "error",
     "traceback": [
      "\u001b[1;31m---------------------------------------------------------------------------\u001b[0m",
      "\u001b[1;31mZeroDivisionError\u001b[0m                         Traceback (most recent call last)",
      "\u001b[1;32mc:\\Users\\Robotux\\Documents\\Python\\20230104VCSDMAVAK\\lesson_6.ipynb Cell 43\u001b[0m in \u001b[0;36m<module>\u001b[1;34m\u001b[0m\n\u001b[0;32m      <a href='vscode-notebook-cell:/c%3A/Users/Robotux/Documents/Python/20230104VCSDMAVAK/lesson_6.ipynb#X63sZmlsZQ%3D%3D?line=0'>1</a>\u001b[0m \u001b[39mtry\u001b[39;00m:\n\u001b[0;32m      <a href='vscode-notebook-cell:/c%3A/Users/Robotux/Documents/Python/20230104VCSDMAVAK/lesson_6.ipynb#X63sZmlsZQ%3D%3D?line=1'>2</a>\u001b[0m     \u001b[39mprint\u001b[39m (\u001b[39m'\u001b[39m\u001b[39mKodo pradzia\u001b[39m\u001b[39m'\u001b[39m)\n\u001b[1;32m----> <a href='vscode-notebook-cell:/c%3A/Users/Robotux/Documents/Python/20230104VCSDMAVAK/lesson_6.ipynb#X63sZmlsZQ%3D%3D?line=2'>3</a>\u001b[0m     \u001b[39m5\u001b[39;49m\u001b[39m/\u001b[39;49m\u001b[39m0\u001b[39;49m\n\u001b[0;32m      <a href='vscode-notebook-cell:/c%3A/Users/Robotux/Documents/Python/20230104VCSDMAVAK/lesson_6.ipynb#X63sZmlsZQ%3D%3D?line=3'>4</a>\u001b[0m     \u001b[39mprint\u001b[39m(name)\n\u001b[0;32m      <a href='vscode-notebook-cell:/c%3A/Users/Robotux/Documents/Python/20230104VCSDMAVAK/lesson_6.ipynb#X63sZmlsZQ%3D%3D?line=4'>5</a>\u001b[0m     \u001b[39m# print('try pabaiga')\u001b[39;00m\n",
      "\u001b[1;31mZeroDivisionError\u001b[0m: division by zero"
     ]
    }
   ],
   "source": [
    "try:\n",
    "    print ('Kodo pradzia')\n",
    "    5/0\n",
    "    print(name)\n",
    "    # print('try pabaiga')\n",
    "except NameError as e: # NENAUDOTI except  be klaidos tipo\n",
    "    print(e)\n",
    "print ('kodo pabaiga')"
   ]
  },
  {
   "cell_type": "code",
   "execution_count": 82,
   "metadata": {},
   "outputs": [
    {
     "name": "stdout",
     "output_type": "stream",
     "text": [
      "Kodo pradzia\n",
      "Bandete dalinti is 0\n",
      "division by zero\n",
      "kodo pabaiga\n"
     ]
    }
   ],
   "source": [
    "try:\n",
    "    print ('Kodo pradzia')\n",
    "    5/0\n",
    "    print(name)\n",
    "    # print('try pabaiga')\n",
    "except NameError as e: # NENAUDOTI except  be klaidos tipo\n",
    "    print(e)\n",
    "except ZeroDivisionError as e:\n",
    "    print('Bandete dalinti is 0')\n",
    "    print (e)\n",
    "print ('kodo pabaiga')"
   ]
  },
  {
   "cell_type": "code",
   "execution_count": 86,
   "metadata": {},
   "outputs": [
    {
     "name": "stdout",
     "output_type": "stream",
     "text": [
      "Kodo pradzia\n",
      "Visada bus atspausdinta\n"
     ]
    },
    {
     "ename": "IndexError",
     "evalue": "list index out of range",
     "output_type": "error",
     "traceback": [
      "\u001b[1;31m---------------------------------------------------------------------------\u001b[0m",
      "\u001b[1;31mIndexError\u001b[0m                                Traceback (most recent call last)",
      "\u001b[1;32mc:\\Users\\Robotux\\Documents\\Python\\20230104VCSDMAVAK\\lesson_6.ipynb Cell 45\u001b[0m in \u001b[0;36m<module>\u001b[1;34m\u001b[0m\n\u001b[0;32m      <a href='vscode-notebook-cell:/c%3A/Users/Robotux/Documents/Python/20230104VCSDMAVAK/lesson_6.ipynb#X65sZmlsZQ%3D%3D?line=1'>2</a>\u001b[0m     \u001b[39mprint\u001b[39m (\u001b[39m'\u001b[39m\u001b[39mKodo pradzia\u001b[39m\u001b[39m'\u001b[39m)\n\u001b[0;32m      <a href='vscode-notebook-cell:/c%3A/Users/Robotux/Documents/Python/20230104VCSDMAVAK/lesson_6.ipynb#X65sZmlsZQ%3D%3D?line=2'>3</a>\u001b[0m     \u001b[39m# 5/0\u001b[39;00m\n\u001b[0;32m      <a href='vscode-notebook-cell:/c%3A/Users/Robotux/Documents/Python/20230104VCSDMAVAK/lesson_6.ipynb#X65sZmlsZQ%3D%3D?line=3'>4</a>\u001b[0m     \u001b[39m# print(name)\u001b[39;00m\n\u001b[1;32m----> <a href='vscode-notebook-cell:/c%3A/Users/Robotux/Documents/Python/20230104VCSDMAVAK/lesson_6.ipynb#X65sZmlsZQ%3D%3D?line=4'>5</a>\u001b[0m     my_list[\u001b[39m56\u001b[39;49m]\n\u001b[0;32m      <a href='vscode-notebook-cell:/c%3A/Users/Robotux/Documents/Python/20230104VCSDMAVAK/lesson_6.ipynb#X65sZmlsZQ%3D%3D?line=5'>6</a>\u001b[0m     \u001b[39mprint\u001b[39m(\u001b[39m'\u001b[39m\u001b[39mtry pabaiga\u001b[39m\u001b[39m'\u001b[39m)\n\u001b[0;32m      <a href='vscode-notebook-cell:/c%3A/Users/Robotux/Documents/Python/20230104VCSDMAVAK/lesson_6.ipynb#X65sZmlsZQ%3D%3D?line=6'>7</a>\u001b[0m \u001b[39mexcept\u001b[39;00m \u001b[39mNameError\u001b[39;00m \u001b[39mas\u001b[39;00m e: \u001b[39m# NENAUDOTI except  be klaidos tipo\u001b[39;00m\n",
      "\u001b[1;31mIndexError\u001b[0m: list index out of range"
     ]
    }
   ],
   "source": [
    "try:\n",
    "    print ('Kodo pradzia')\n",
    "    # 5/0\n",
    "    # print(name)\n",
    "    my_list[56]\n",
    "    print('try pabaiga')\n",
    "except NameError as e: # NENAUDOTI except  be klaidos tipo\n",
    "    print(e)\n",
    "except ZeroDivisionError as e:\n",
    "    print('Bandete dalinti is 0')\n",
    "    print (e)\n",
    "finally:\n",
    "    print ('Visada bus atspausdinta') # atspausdina net jei ivyko klaida"
   ]
  },
  {
   "attachments": {},
   "cell_type": "markdown",
   "metadata": {},
   "source": [
    "## dažnu atveju galima apsieiti be try/except"
   ]
  },
  {
   "cell_type": "code",
   "execution_count": 93,
   "metadata": {},
   "outputs": [
    {
     "name": "stdout",
     "output_type": "stream",
     "text": [
      "None\n"
     ]
    }
   ],
   "source": [
    "b = 6\n",
    "c = 0\n",
    "\n",
    "if c == 0:\n",
    "    v = None\n",
    "else:\n",
    "    v = b / c\n",
    "print(v)"
   ]
  },
  {
   "cell_type": "code",
   "execution_count": 95,
   "metadata": {},
   "outputs": [
    {
     "ename": "ValueError",
     "evalue": "invalid literal for int() with base 10: '5.1'",
     "output_type": "error",
     "traceback": [
      "\u001b[1;31m---------------------------------------------------------------------------\u001b[0m",
      "\u001b[1;31mValueError\u001b[0m                                Traceback (most recent call last)",
      "\u001b[1;32mc:\\Users\\Robotux\\Documents\\Python\\20230104VCSDMAVAK\\lesson_6.ipynb Cell 48\u001b[0m in \u001b[0;36m<module>\u001b[1;34m\u001b[0m\n\u001b[0;32m      <a href='vscode-notebook-cell:/c%3A/Users/Robotux/Documents/Python/20230104VCSDMAVAK/lesson_6.ipynb#Y101sZmlsZQ%3D%3D?line=3'>4</a>\u001b[0m     \u001b[39mreturn\u001b[39;00m a \u001b[39m+\u001b[39m b\n\u001b[0;32m      <a href='vscode-notebook-cell:/c%3A/Users/Robotux/Documents/Python/20230104VCSDMAVAK/lesson_6.ipynb#Y101sZmlsZQ%3D%3D?line=5'>6</a>\u001b[0m add_2(\u001b[39m'\u001b[39m\u001b[39m5\u001b[39m\u001b[39m'\u001b[39m, \u001b[39m4\u001b[39m)\n\u001b[1;32m----> <a href='vscode-notebook-cell:/c%3A/Users/Robotux/Documents/Python/20230104VCSDMAVAK/lesson_6.ipynb#Y101sZmlsZQ%3D%3D?line=6'>7</a>\u001b[0m add_2(\u001b[39m'\u001b[39;49m\u001b[39m5.1\u001b[39;49m\u001b[39m'\u001b[39;49m, \u001b[39m4\u001b[39;49m)\n",
      "\u001b[1;32mc:\\Users\\Robotux\\Documents\\Python\\20230104VCSDMAVAK\\lesson_6.ipynb Cell 48\u001b[0m in \u001b[0;36madd_2\u001b[1;34m(a, b)\u001b[0m\n\u001b[0;32m      <a href='vscode-notebook-cell:/c%3A/Users/Robotux/Documents/Python/20230104VCSDMAVAK/lesson_6.ipynb#Y101sZmlsZQ%3D%3D?line=0'>1</a>\u001b[0m \u001b[39mdef\u001b[39;00m \u001b[39madd_2\u001b[39m(a,b):\n\u001b[0;32m      <a href='vscode-notebook-cell:/c%3A/Users/Robotux/Documents/Python/20230104VCSDMAVAK/lesson_6.ipynb#Y101sZmlsZQ%3D%3D?line=1'>2</a>\u001b[0m     \u001b[39mif\u001b[39;00m \u001b[39mnot\u001b[39;00m \u001b[39misinstance\u001b[39m( a, \u001b[39mint\u001b[39m):\n\u001b[1;32m----> <a href='vscode-notebook-cell:/c%3A/Users/Robotux/Documents/Python/20230104VCSDMAVAK/lesson_6.ipynb#Y101sZmlsZQ%3D%3D?line=2'>3</a>\u001b[0m         a \u001b[39m=\u001b[39m \u001b[39mint\u001b[39;49m(a)\n\u001b[0;32m      <a href='vscode-notebook-cell:/c%3A/Users/Robotux/Documents/Python/20230104VCSDMAVAK/lesson_6.ipynb#Y101sZmlsZQ%3D%3D?line=3'>4</a>\u001b[0m     \u001b[39mreturn\u001b[39;00m a \u001b[39m+\u001b[39m b\n",
      "\u001b[1;31mValueError\u001b[0m: invalid literal for int() with base 10: '5.1'"
     ]
    }
   ],
   "source": [
    "def add_2(a,b):\n",
    "    if not isinstance( a, int):\n",
    "        a = int(a)\n",
    "    return a + b\n",
    "\n",
    "add_2('5', 4)\n",
    "add_2('5.1', 4)"
   ]
  },
  {
   "attachments": {},
   "cell_type": "markdown",
   "metadata": {},
   "source": [
    "# OS biblioteka"
   ]
  },
  {
   "cell_type": "code",
   "execution_count": 96,
   "metadata": {},
   "outputs": [],
   "source": [
    "import os"
   ]
  },
  {
   "cell_type": "code",
   "execution_count": 97,
   "metadata": {},
   "outputs": [
    {
     "data": {
      "text/plain": [
       "'c:\\\\Users\\\\Robotux\\\\Documents\\\\Python\\\\20230104VCSDMAVAK'"
      ]
     },
     "execution_count": 97,
     "metadata": {},
     "output_type": "execute_result"
    }
   ],
   "source": [
    "os.getcwd() # get current working directory"
   ]
  },
  {
   "cell_type": "code",
   "execution_count": 98,
   "metadata": {},
   "outputs": [],
   "source": [
    "os.chdir(\"../\")"
   ]
  },
  {
   "cell_type": "code",
   "execution_count": 99,
   "metadata": {},
   "outputs": [
    {
     "data": {
      "text/plain": [
       "'c:\\\\Users\\\\Robotux\\\\Documents\\\\Python'"
      ]
     },
     "execution_count": 99,
     "metadata": {},
     "output_type": "execute_result"
    }
   ],
   "source": [
    "os.getcwd()"
   ]
  },
  {
   "cell_type": "code",
   "execution_count": 100,
   "metadata": {},
   "outputs": [
    {
     "data": {
      "text/plain": [
       "['-20220329VCSMALB2B',\n",
       " '20211109VCSPYTB2B',\n",
       " '20220105VCSDMAVAK',\n",
       " '20220111VCSPYTVAK',\n",
       " '20220830VCSPYTVAK',\n",
       " '20221019VCSPYTB2B',\n",
       " '20230104VCSDMAVAK',\n",
       " 'Capture.PNG',\n",
       " 'Capture_2.PNG',\n",
       " 'neg_pred.png',\n",
       " 'sql.mwb',\n",
       " 'tmp.ipynb']"
      ]
     },
     "execution_count": 100,
     "metadata": {},
     "output_type": "execute_result"
    }
   ],
   "source": [
    "os.listdir()"
   ]
  },
  {
   "cell_type": "code",
   "execution_count": 101,
   "metadata": {},
   "outputs": [],
   "source": [
    "os.chdir(\"c:\\\\Users\\\\Robotux\\\\Documents\\\\Python\\\\20230104VCSDMAVAK\")"
   ]
  },
  {
   "cell_type": "code",
   "execution_count": 102,
   "metadata": {},
   "outputs": [
    {
     "data": {
      "text/plain": [
       "'c:\\\\Users\\\\Robotux\\\\Documents\\\\Python\\\\20230104VCSDMAVAK'"
      ]
     },
     "execution_count": 102,
     "metadata": {},
     "output_type": "execute_result"
    }
   ],
   "source": [
    "os.getcwd()"
   ]
  },
  {
   "cell_type": "code",
   "execution_count": 103,
   "metadata": {},
   "outputs": [
    {
     "data": {
      "text/plain": [
       "['.git',\n",
       " '.gitignore',\n",
       " 'lesson_1.ipynb',\n",
       " 'lesson_2.ipynb',\n",
       " 'lesson_3.ipynb',\n",
       " 'lesson_4.ipynb',\n",
       " 'lesson_5.ipynb',\n",
       " 'lesson_6.ipynb',\n",
       " 'README.md']"
      ]
     },
     "execution_count": 103,
     "metadata": {},
     "output_type": "execute_result"
    }
   ],
   "source": [
    "os.listdir()"
   ]
  },
  {
   "cell_type": "code",
   "execution_count": 106,
   "metadata": {},
   "outputs": [
    {
     "data": {
      "text/plain": [
       "['-20220329VCSMALB2B',\n",
       " '20211109VCSPYTB2B',\n",
       " '20220105VCSDMAVAK',\n",
       " '20220111VCSPYTVAK',\n",
       " '20220830VCSPYTVAK',\n",
       " '20221019VCSPYTB2B',\n",
       " '20230104VCSDMAVAK',\n",
       " 'Capture.PNG',\n",
       " 'Capture_2.PNG',\n",
       " 'neg_pred.png',\n",
       " 'sql.mwb',\n",
       " 'tmp.ipynb']"
      ]
     },
     "execution_count": 106,
     "metadata": {},
     "output_type": "execute_result"
    }
   ],
   "source": [
    "# os.listdir(\"c:\\\\Users\\\\Robotux\\\\Documents\\\\Python\" ) # tas pats rezultatas\n",
    "os.listdir(\"c:/Users/Robotux/Documents/Python\" )"
   ]
  },
  {
   "cell_type": "code",
   "execution_count": 107,
   "metadata": {},
   "outputs": [],
   "source": [
    "# os.mkdir() # sukuria tik 1 aplankala \n",
    "os.makedirs('test1/test2/test3') # gali  sukurti daugiau nei 1 aplankala "
   ]
  },
  {
   "cell_type": "code",
   "execution_count": 110,
   "metadata": {},
   "outputs": [
    {
     "ename": "FileExistsError",
     "evalue": "[WinError 183] Cannot create a file when that file already exists: 'test1/test2/test3'",
     "output_type": "error",
     "traceback": [
      "\u001b[1;31m---------------------------------------------------------------------------\u001b[0m",
      "\u001b[1;31mFileExistsError\u001b[0m                           Traceback (most recent call last)",
      "\u001b[1;32mc:\\Users\\Robotux\\Documents\\Python\\20230104VCSDMAVAK\\lesson_6.ipynb Cell 60\u001b[0m in \u001b[0;36m<module>\u001b[1;34m\u001b[0m\n\u001b[0;32m      <a href='vscode-notebook-cell:/c%3A/Users/Robotux/Documents/Python/20230104VCSDMAVAK/lesson_6.ipynb#Y121sZmlsZQ%3D%3D?line=0'>1</a>\u001b[0m os\u001b[39m.\u001b[39mmakedirs(\u001b[39m'\u001b[39m\u001b[39mtest1/test2/test3\u001b[39m\u001b[39m'\u001b[39m)\n\u001b[1;32m----> <a href='vscode-notebook-cell:/c%3A/Users/Robotux/Documents/Python/20230104VCSDMAVAK/lesson_6.ipynb#Y121sZmlsZQ%3D%3D?line=1'>2</a>\u001b[0m os\u001b[39m.\u001b[39;49mmakedirs(\u001b[39m'\u001b[39;49m\u001b[39mtest1/test2/test3\u001b[39;49m\u001b[39m'\u001b[39;49m)\n",
      "File \u001b[1;32mc:\\Users\\Robotux\\AppData\\Local\\Programs\\Python\\Python310\\lib\\os.py:225\u001b[0m, in \u001b[0;36mmakedirs\u001b[1;34m(name, mode, exist_ok)\u001b[0m\n\u001b[0;32m    223\u001b[0m         \u001b[39mreturn\u001b[39;00m\n\u001b[0;32m    224\u001b[0m \u001b[39mtry\u001b[39;00m:\n\u001b[1;32m--> 225\u001b[0m     mkdir(name, mode)\n\u001b[0;32m    226\u001b[0m \u001b[39mexcept\u001b[39;00m \u001b[39mOSError\u001b[39;00m:\n\u001b[0;32m    227\u001b[0m     \u001b[39m# Cannot rely on checking for EEXIST, since the operating system\u001b[39;00m\n\u001b[0;32m    228\u001b[0m     \u001b[39m# could give priority to other errors like EACCES or EROFS\u001b[39;00m\n\u001b[0;32m    229\u001b[0m     \u001b[39mif\u001b[39;00m \u001b[39mnot\u001b[39;00m exist_ok \u001b[39mor\u001b[39;00m \u001b[39mnot\u001b[39;00m path\u001b[39m.\u001b[39misdir(name):\n",
      "\u001b[1;31mFileExistsError\u001b[0m: [WinError 183] Cannot create a file when that file already exists: 'test1/test2/test3'"
     ]
    }
   ],
   "source": [
    "os.makedirs('test1/test2/test3')\n",
    "os.makedirs('test1/test2/test3')"
   ]
  },
  {
   "cell_type": "code",
   "execution_count": 111,
   "metadata": {},
   "outputs": [],
   "source": [
    "os.makedirs('test1/test2/test3', exist_ok=True)\n",
    "os.makedirs('test1/test2/test3', exist_ok=True)"
   ]
  },
  {
   "cell_type": "code",
   "execution_count": 109,
   "metadata": {},
   "outputs": [],
   "source": [
    "os.removedirs('test1/test2/test3') # istrina tik tuscius aplankalus"
   ]
  },
  {
   "attachments": {},
   "cell_type": "markdown",
   "metadata": {},
   "source": [
    "# Dokumentų skaitymas ir rašymas"
   ]
  },
  {
   "cell_type": "code",
   "execution_count": 113,
   "metadata": {},
   "outputs": [
    {
     "name": "stdout",
     "output_type": "stream",
     "text": [
      "Hello from a file\n",
      "This is a new line\n"
     ]
    },
    {
     "ename": "ValueError",
     "evalue": "I/O operation on closed file.",
     "output_type": "error",
     "traceback": [
      "\u001b[1;31m---------------------------------------------------------------------------\u001b[0m",
      "\u001b[1;31mValueError\u001b[0m                                Traceback (most recent call last)",
      "\u001b[1;32mc:\\Users\\Robotux\\Documents\\Python\\20230104VCSDMAVAK\\lesson_6.ipynb Cell 64\u001b[0m in \u001b[0;36m<module>\u001b[1;34m\u001b[0m\n\u001b[0;32m      <a href='vscode-notebook-cell:/c%3A/Users/Robotux/Documents/Python/20230104VCSDMAVAK/lesson_6.ipynb#Y120sZmlsZQ%3D%3D?line=1'>2</a>\u001b[0m     text \u001b[39m=\u001b[39m fr\u001b[39m.\u001b[39mread()\n\u001b[0;32m      <a href='vscode-notebook-cell:/c%3A/Users/Robotux/Documents/Python/20230104VCSDMAVAK/lesson_6.ipynb#Y120sZmlsZQ%3D%3D?line=3'>4</a>\u001b[0m \u001b[39mprint\u001b[39m(text)\n\u001b[1;32m----> <a href='vscode-notebook-cell:/c%3A/Users/Robotux/Documents/Python/20230104VCSDMAVAK/lesson_6.ipynb#Y120sZmlsZQ%3D%3D?line=4'>5</a>\u001b[0m fr\u001b[39m.\u001b[39;49mread()\n",
      "\u001b[1;31mValueError\u001b[0m: I/O operation on closed file."
     ]
    }
   ],
   "source": [
    "with open('tekstas.txt', mode='r') as fr:\n",
    "    text = fr.read()\n",
    "\n",
    "print(text)\n",
    "fr.read()"
   ]
  },
  {
   "cell_type": "code",
   "execution_count": 115,
   "metadata": {},
   "outputs": [
    {
     "ename": "ValueError",
     "evalue": "I/O operation on closed file.",
     "output_type": "error",
     "traceback": [
      "\u001b[1;31m---------------------------------------------------------------------------\u001b[0m",
      "\u001b[1;31mValueError\u001b[0m                                Traceback (most recent call last)",
      "\u001b[1;32mc:\\Users\\Robotux\\Documents\\Python\\20230104VCSDMAVAK\\lesson_6.ipynb Cell 65\u001b[0m in \u001b[0;36m<module>\u001b[1;34m\u001b[0m\n\u001b[0;32m      <a href='vscode-notebook-cell:/c%3A/Users/Robotux/Documents/Python/20230104VCSDMAVAK/lesson_6.ipynb#Y124sZmlsZQ%3D%3D?line=4'>5</a>\u001b[0m     fw\u001b[39m.\u001b[39mwrite(out_text)\n\u001b[0;32m      <a href='vscode-notebook-cell:/c%3A/Users/Robotux/Documents/Python/20230104VCSDMAVAK/lesson_6.ipynb#Y124sZmlsZQ%3D%3D?line=5'>6</a>\u001b[0m     fw\u001b[39m.\u001b[39mwrite(out_text_2)\n\u001b[1;32m----> <a href='vscode-notebook-cell:/c%3A/Users/Robotux/Documents/Python/20230104VCSDMAVAK/lesson_6.ipynb#Y124sZmlsZQ%3D%3D?line=7'>8</a>\u001b[0m fw\u001b[39m.\u001b[39;49mwrite(out_text_2)\n",
      "\u001b[1;31mValueError\u001b[0m: I/O operation on closed file."
     ]
    }
   ],
   "source": [
    "out_text = \"hello from Python\\n\"\n",
    "out_text_2 = 'second line'\n",
    "\n",
    "with open('tekstas_output.txt', mode='w') as fw:\n",
    "    fw.write(out_text)\n",
    "    fw.write(out_text_2)\n",
    "\n",
    "fw.write(out_text_2)"
   ]
  },
  {
   "attachments": {},
   "cell_type": "markdown",
   "metadata": {},
   "source": [
    "## JSON"
   ]
  },
  {
   "cell_type": "code",
   "execution_count": 116,
   "metadata": {},
   "outputs": [],
   "source": [
    "my_dict = {\n",
    "    'names': 'Darius',\n",
    "    'hobbies': ['tennis', 'bicycle']\n",
    "}"
   ]
  },
  {
   "cell_type": "code",
   "execution_count": 117,
   "metadata": {},
   "outputs": [],
   "source": [
    "import json\n",
    "\n",
    "with open('person.json', 'w') as fw: # bet koks pavadinimas\n",
    "    json.dump( my_dict, fw )"
   ]
  },
  {
   "cell_type": "code",
   "execution_count": 119,
   "metadata": {},
   "outputs": [
    {
     "name": "stdout",
     "output_type": "stream",
     "text": [
      "{'names': 'Darius', 'hobbies': ['tennis', 'bicycle']}\n",
      "<class 'dict'>\n"
     ]
    }
   ],
   "source": [
    "with open('person.json', 'r') as any_variable_name: # bet koks pavadinimas\n",
    "    loaded_dict = json.load(any_variable_name)\n",
    "\n",
    "print(loaded_dict)\n",
    "print(type(loaded_dict))"
   ]
  },
  {
   "cell_type": "code",
   "execution_count": null,
   "metadata": {},
   "outputs": [],
   "source": []
  }
 ],
 "metadata": {
  "kernelspec": {
   "display_name": "Python 3",
   "language": "python",
   "name": "python3"
  },
  "language_info": {
   "codemirror_mode": {
    "name": "ipython",
    "version": 3
   },
   "file_extension": ".py",
   "mimetype": "text/x-python",
   "name": "python",
   "nbconvert_exporter": "python",
   "pygments_lexer": "ipython3",
   "version": "3.10.2"
  },
  "orig_nbformat": 4,
  "vscode": {
   "interpreter": {
    "hash": "db50a459ab6695ace3368e8957af3456c8c93e92d9fe6c38987133d01669da40"
   }
  }
 },
 "nbformat": 4,
 "nbformat_minor": 2
}
